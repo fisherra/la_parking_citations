{
 "cells": [
  {
   "cell_type": "markdown",
   "metadata": {},
   "source": [
    "## LA Parking Citation Exploratory Data Analysis\n"
   ]
  },
  {
   "cell_type": "markdown",
   "metadata": {},
   "source": [
    "#### Fisher Ankney\n",
    "#### October 27th, 2018\n",
    "\n",
    "<br> \n",
    "\n",
    "data avaliable on Kaggle or https://data.lacity.org/\n",
    "\n",
    "This goal of this notebook is EDA 1"
   ]
  },
  {
   "cell_type": "markdown",
   "metadata": {},
   "source": [
    "### Load Libraries"
   ]
  },
  {
   "cell_type": "code",
   "execution_count": 1,
   "metadata": {},
   "outputs": [],
   "source": [
    "import numpy as np\n",
    "import pandas as pd\n",
    "import matplotlib.pyplot as plt"
   ]
  },
  {
   "cell_type": "code",
   "execution_count": 5,
   "metadata": {},
   "outputs": [],
   "source": [
    "# load individual sets\n",
    "la_ticket_2017_1 = pd.read_csv(\"~/Documents/data_science/py_la_tickets/la_ticket_2017_1.csv\")\n",
    "la_ticket_2017_2 = pd.read_csv(\"~/Documents/data_science/py_la_tickets/la_ticket_2017_2.csv\")\n",
    "la_ticket_2017_3 = pd.read_csv(\"~/Documents/data_science/py_la_tickets/la_ticket_2017_3.csv\")"
   ]
  },
  {
   "cell_type": "code",
   "execution_count": 16,
   "metadata": {},
   "outputs": [],
   "source": [
    "# combine dataset\n",
    "la_ticket_2017 = pd.concat([la_ticket_2017_1,la_ticket_2017_2,la_ticket_2017_3])"
   ]
  },
  {
   "cell_type": "code",
   "execution_count": 17,
   "metadata": {},
   "outputs": [
    {
     "data": {
      "text/html": [
       "<div>\n",
       "<style scoped>\n",
       "    .dataframe tbody tr th:only-of-type {\n",
       "        vertical-align: middle;\n",
       "    }\n",
       "\n",
       "    .dataframe tbody tr th {\n",
       "        vertical-align: top;\n",
       "    }\n",
       "\n",
       "    .dataframe thead th {\n",
       "        text-align: right;\n",
       "    }\n",
       "</style>\n",
       "<table border=\"1\" class=\"dataframe\">\n",
       "  <thead>\n",
       "    <tr style=\"text-align: right;\">\n",
       "      <th></th>\n",
       "      <th>Unnamed: 0</th>\n",
       "      <th>Issue time</th>\n",
       "      <th>Meter Id</th>\n",
       "      <th>RP State Plate</th>\n",
       "      <th>Make</th>\n",
       "      <th>Body Style</th>\n",
       "      <th>Color</th>\n",
       "      <th>Location</th>\n",
       "      <th>Violation code</th>\n",
       "      <th>Violation Description</th>\n",
       "      <th>Fine amount</th>\n",
       "      <th>Latitude</th>\n",
       "      <th>Longitude</th>\n",
       "      <th>Month</th>\n",
       "      <th>Day</th>\n",
       "    </tr>\n",
       "  </thead>\n",
       "  <tbody>\n",
       "    <tr>\n",
       "      <th>0</th>\n",
       "      <td>2777524</td>\n",
       "      <td>104.0</td>\n",
       "      <td>NaN</td>\n",
       "      <td>OR</td>\n",
       "      <td>TOYT</td>\n",
       "      <td>PA</td>\n",
       "      <td>BL</td>\n",
       "      <td>1822 WINONA BLVD</td>\n",
       "      <td>80.56E4+</td>\n",
       "      <td>RED ZONE</td>\n",
       "      <td>93.0</td>\n",
       "      <td>6.470239e+06</td>\n",
       "      <td>1.860397e+06</td>\n",
       "      <td>3</td>\n",
       "      <td>1</td>\n",
       "    </tr>\n",
       "    <tr>\n",
       "      <th>1</th>\n",
       "      <td>2777558</td>\n",
       "      <td>1050.0</td>\n",
       "      <td>NaN</td>\n",
       "      <td>CA</td>\n",
       "      <td>HOND</td>\n",
       "      <td>PA</td>\n",
       "      <td>BK</td>\n",
       "      <td>710 EL CENTRO AV</td>\n",
       "      <td>4000A1</td>\n",
       "      <td>NO EVIDENCE OF REG</td>\n",
       "      <td>50.0</td>\n",
       "      <td>9.999900e+04</td>\n",
       "      <td>9.999900e+04</td>\n",
       "      <td>3</td>\n",
       "      <td>28</td>\n",
       "    </tr>\n",
       "    <tr>\n",
       "      <th>2</th>\n",
       "      <td>2827647</td>\n",
       "      <td>115.0</td>\n",
       "      <td>NaN</td>\n",
       "      <td>CA</td>\n",
       "      <td>HOND</td>\n",
       "      <td>PA</td>\n",
       "      <td>GY</td>\n",
       "      <td>7502 WILLIS AVENUE</td>\n",
       "      <td>22500E</td>\n",
       "      <td>BLOCKING DRIVEWAY</td>\n",
       "      <td>68.0</td>\n",
       "      <td>6.424012e+06</td>\n",
       "      <td>1.897916e+06</td>\n",
       "      <td>1</td>\n",
       "      <td>3</td>\n",
       "    </tr>\n",
       "    <tr>\n",
       "      <th>3</th>\n",
       "      <td>2827648</td>\n",
       "      <td>126.0</td>\n",
       "      <td>NaN</td>\n",
       "      <td>CA</td>\n",
       "      <td>FORD</td>\n",
       "      <td>VN</td>\n",
       "      <td>WT</td>\n",
       "      <td>14957 FRIAR STREET</td>\n",
       "      <td>5204A-</td>\n",
       "      <td>DISPLAY OF TABS</td>\n",
       "      <td>25.0</td>\n",
       "      <td>6.422948e+06</td>\n",
       "      <td>1.890266e+06</td>\n",
       "      <td>1</td>\n",
       "      <td>3</td>\n",
       "    </tr>\n",
       "    <tr>\n",
       "      <th>4</th>\n",
       "      <td>2827649</td>\n",
       "      <td>132.0</td>\n",
       "      <td>NaN</td>\n",
       "      <td>CA</td>\n",
       "      <td>HOND</td>\n",
       "      <td>PA</td>\n",
       "      <td>BK</td>\n",
       "      <td>14634 SYLVAN ST</td>\n",
       "      <td>22514</td>\n",
       "      <td>FIRE HYDRANT</td>\n",
       "      <td>68.0</td>\n",
       "      <td>6.425072e+06</td>\n",
       "      <td>1.889888e+06</td>\n",
       "      <td>1</td>\n",
       "      <td>3</td>\n",
       "    </tr>\n",
       "  </tbody>\n",
       "</table>\n",
       "</div>"
      ],
      "text/plain": [
       "   Unnamed: 0  Issue time Meter Id RP State Plate  Make Body Style Color  \\\n",
       "0     2777524       104.0      NaN             OR  TOYT         PA    BL   \n",
       "1     2777558      1050.0      NaN             CA  HOND         PA    BK   \n",
       "2     2827647       115.0      NaN             CA  HOND         PA    GY   \n",
       "3     2827648       126.0      NaN             CA  FORD         VN    WT   \n",
       "4     2827649       132.0      NaN             CA  HOND         PA    BK   \n",
       "\n",
       "             Location Violation code Violation Description  Fine amount  \\\n",
       "0    1822 WINONA BLVD       80.56E4+              RED ZONE         93.0   \n",
       "1    710 EL CENTRO AV         4000A1    NO EVIDENCE OF REG         50.0   \n",
       "2  7502 WILLIS AVENUE         22500E     BLOCKING DRIVEWAY         68.0   \n",
       "3  14957 FRIAR STREET         5204A-       DISPLAY OF TABS         25.0   \n",
       "4     14634 SYLVAN ST          22514          FIRE HYDRANT         68.0   \n",
       "\n",
       "       Latitude     Longitude  Month  Day  \n",
       "0  6.470239e+06  1.860397e+06      3    1  \n",
       "1  9.999900e+04  9.999900e+04      3   28  \n",
       "2  6.424012e+06  1.897916e+06      1    3  \n",
       "3  6.422948e+06  1.890266e+06      1    3  \n",
       "4  6.425072e+06  1.889888e+06      1    3  "
      ]
     },
     "execution_count": 17,
     "metadata": {},
     "output_type": "execute_result"
    }
   ],
   "source": [
    "# view dataset\n",
    "la_ticket_2017.head()"
   ]
  },
  {
   "cell_type": "code",
   "execution_count": 18,
   "metadata": {},
   "outputs": [
    {
     "data": {
      "text/plain": [
       "2254329"
      ]
     },
     "execution_count": 18,
     "metadata": {},
     "output_type": "execute_result"
    }
   ],
   "source": [
    "len(la_ticket_2017)"
   ]
  },
  {
   "cell_type": "raw",
   "metadata": {},
   "source": [
    "Goals - \n",
    "\n",
    "Create Day of the year variable\n",
    "- visualize day of year / tickets given\n",
    "- visualize day of year / sum(fine amount)\n",
    "\n",
    "Plot Issue Time\n",
    "\n",
    "Plot Location against city map\n",
    "\n",
    "Categorical Variable Analysis Make / Color\n",
    "- more likely to get ticket of Ford / Red?\n",
    "- Plot Tickets Per State on heat map?\n",
    "\n",
    "Which meters are the worst?\n",
    "\n",
    "Most common violation?\n",
    "- violation always the same fine amount?\n",
    "- what changes it if it is different\n",
    "\n",
    "Outliers\n",
    "- least common Violation\n",
    "- Most Expensive Violation\n",
    "- Best meter\n",
    "- cheapest fine\n",
    "- days with no fines"
   ]
  },
  {
   "cell_type": "code",
   "execution_count": null,
   "metadata": {},
   "outputs": [],
   "source": [
    "# plt.style.use('ggplot')\n",
    "# la_ticket_2017.hist(column='Fine amount', bins = 20)"
   ]
  }
 ],
 "metadata": {
  "kernelspec": {
   "display_name": "Python 3",
   "language": "python",
   "name": "python3"
  },
  "language_info": {
   "codemirror_mode": {
    "name": "ipython",
    "version": 3
   },
   "file_extension": ".py",
   "mimetype": "text/x-python",
   "name": "python",
   "nbconvert_exporter": "python",
   "pygments_lexer": "ipython3",
   "version": "3.6.6"
  }
 },
 "nbformat": 4,
 "nbformat_minor": 2
}
