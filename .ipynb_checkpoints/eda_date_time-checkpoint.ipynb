{
 "cells": [
  {
   "cell_type": "markdown",
   "metadata": {},
   "source": [
    "## LA Parking Citation Exploratory Data Analysis\n"
   ]
  },
  {
   "cell_type": "markdown",
   "metadata": {},
   "source": [
    "#### Fisher Ankney\n",
    "#### October 27th, 2018\n",
    "\n",
    "<br> \n",
    "\n",
    "data avaliable on Kaggle or https://data.lacity.org/\n",
    "\n",
    "This goal of this notebook understand relationships with date and time."
   ]
  },
  {
   "cell_type": "markdown",
   "metadata": {},
   "source": [
    "### Load Libraries"
   ]
  },
  {
   "cell_type": "code",
   "execution_count": 160,
   "metadata": {},
   "outputs": [],
   "source": [
    "import numpy as np\n",
    "import pandas as pd\n",
    "import matplotlib.pyplot as plt\n",
    "plt.style.use('ggplot')"
   ]
  },
  {
   "cell_type": "markdown",
   "metadata": {},
   "source": [
    "### Combine Datasets"
   ]
  },
  {
   "cell_type": "code",
   "execution_count": 19,
   "metadata": {},
   "outputs": [],
   "source": [
    "# load individual sets\n",
    "la_ticket_2017_1 = pd.read_csv(\"~/Documents/data_science/py_la_tickets/la_ticket_2017_1.csv\")\n",
    "la_ticket_2017_2 = pd.read_csv(\"~/Documents/data_science/py_la_tickets/la_ticket_2017_2.csv\")\n",
    "la_ticket_2017_3 = pd.read_csv(\"~/Documents/data_science/py_la_tickets/la_ticket_2017_3.csv\")\n",
    "la_ticket_2017_4 = pd.read_csv(\"~/Documents/data_science/py_la_tickets/la_ticket_2017_4.csv\")"
   ]
  },
  {
   "cell_type": "code",
   "execution_count": 21,
   "metadata": {},
   "outputs": [],
   "source": [
    "# combine dataset\n",
    "la_ticket_2017 = pd.concat([la_ticket_2017_1, la_ticket_2017_2, la_ticket_2017_3, la_ticket_2017_4])"
   ]
  },
  {
   "cell_type": "code",
   "execution_count": 22,
   "metadata": {},
   "outputs": [
    {
     "data": {
      "text/html": [
       "<div>\n",
       "<style scoped>\n",
       "    .dataframe tbody tr th:only-of-type {\n",
       "        vertical-align: middle;\n",
       "    }\n",
       "\n",
       "    .dataframe tbody tr th {\n",
       "        vertical-align: top;\n",
       "    }\n",
       "\n",
       "    .dataframe thead th {\n",
       "        text-align: right;\n",
       "    }\n",
       "</style>\n",
       "<table border=\"1\" class=\"dataframe\">\n",
       "  <thead>\n",
       "    <tr style=\"text-align: right;\">\n",
       "      <th></th>\n",
       "      <th>Unnamed: 0</th>\n",
       "      <th>Issue time</th>\n",
       "      <th>Meter Id</th>\n",
       "      <th>RP State Plate</th>\n",
       "      <th>Make</th>\n",
       "      <th>Color</th>\n",
       "      <th>Location</th>\n",
       "      <th>Violation code</th>\n",
       "      <th>Violation Description</th>\n",
       "      <th>Fine amount</th>\n",
       "      <th>Latitude</th>\n",
       "      <th>Longitude</th>\n",
       "      <th>Month</th>\n",
       "      <th>Day</th>\n",
       "    </tr>\n",
       "  </thead>\n",
       "  <tbody>\n",
       "    <tr>\n",
       "      <th>0</th>\n",
       "      <td>2777524</td>\n",
       "      <td>104.0</td>\n",
       "      <td>NaN</td>\n",
       "      <td>OR</td>\n",
       "      <td>TOYT</td>\n",
       "      <td>BL</td>\n",
       "      <td>1822 WINONA BLVD</td>\n",
       "      <td>80.56E4+</td>\n",
       "      <td>RED ZONE</td>\n",
       "      <td>93.0</td>\n",
       "      <td>6.470239e+06</td>\n",
       "      <td>1.860397e+06</td>\n",
       "      <td>3</td>\n",
       "      <td>1</td>\n",
       "    </tr>\n",
       "    <tr>\n",
       "      <th>1</th>\n",
       "      <td>2777558</td>\n",
       "      <td>1050.0</td>\n",
       "      <td>NaN</td>\n",
       "      <td>CA</td>\n",
       "      <td>HOND</td>\n",
       "      <td>BK</td>\n",
       "      <td>710 EL CENTRO AV</td>\n",
       "      <td>4000A1</td>\n",
       "      <td>NO EVIDENCE OF REG</td>\n",
       "      <td>50.0</td>\n",
       "      <td>9.999900e+04</td>\n",
       "      <td>9.999900e+04</td>\n",
       "      <td>3</td>\n",
       "      <td>28</td>\n",
       "    </tr>\n",
       "    <tr>\n",
       "      <th>2</th>\n",
       "      <td>2827647</td>\n",
       "      <td>115.0</td>\n",
       "      <td>NaN</td>\n",
       "      <td>CA</td>\n",
       "      <td>HOND</td>\n",
       "      <td>GY</td>\n",
       "      <td>7502 WILLIS AVENUE</td>\n",
       "      <td>22500E</td>\n",
       "      <td>BLOCKING DRIVEWAY</td>\n",
       "      <td>68.0</td>\n",
       "      <td>6.424012e+06</td>\n",
       "      <td>1.897916e+06</td>\n",
       "      <td>1</td>\n",
       "      <td>3</td>\n",
       "    </tr>\n",
       "    <tr>\n",
       "      <th>3</th>\n",
       "      <td>2827648</td>\n",
       "      <td>126.0</td>\n",
       "      <td>NaN</td>\n",
       "      <td>CA</td>\n",
       "      <td>FORD</td>\n",
       "      <td>WT</td>\n",
       "      <td>14957 FRIAR STREET</td>\n",
       "      <td>5204A-</td>\n",
       "      <td>DISPLAY OF TABS</td>\n",
       "      <td>25.0</td>\n",
       "      <td>6.422948e+06</td>\n",
       "      <td>1.890266e+06</td>\n",
       "      <td>1</td>\n",
       "      <td>3</td>\n",
       "    </tr>\n",
       "    <tr>\n",
       "      <th>4</th>\n",
       "      <td>2827649</td>\n",
       "      <td>132.0</td>\n",
       "      <td>NaN</td>\n",
       "      <td>CA</td>\n",
       "      <td>HOND</td>\n",
       "      <td>BK</td>\n",
       "      <td>14634 SYLVAN ST</td>\n",
       "      <td>22514</td>\n",
       "      <td>FIRE HYDRANT</td>\n",
       "      <td>68.0</td>\n",
       "      <td>6.425072e+06</td>\n",
       "      <td>1.889888e+06</td>\n",
       "      <td>1</td>\n",
       "      <td>3</td>\n",
       "    </tr>\n",
       "  </tbody>\n",
       "</table>\n",
       "</div>"
      ],
      "text/plain": [
       "   Unnamed: 0  Issue time Meter Id RP State Plate  Make Color  \\\n",
       "0     2777524       104.0      NaN             OR  TOYT    BL   \n",
       "1     2777558      1050.0      NaN             CA  HOND    BK   \n",
       "2     2827647       115.0      NaN             CA  HOND    GY   \n",
       "3     2827648       126.0      NaN             CA  FORD    WT   \n",
       "4     2827649       132.0      NaN             CA  HOND    BK   \n",
       "\n",
       "             Location Violation code Violation Description  Fine amount  \\\n",
       "0    1822 WINONA BLVD       80.56E4+              RED ZONE         93.0   \n",
       "1    710 EL CENTRO AV         4000A1    NO EVIDENCE OF REG         50.0   \n",
       "2  7502 WILLIS AVENUE         22500E     BLOCKING DRIVEWAY         68.0   \n",
       "3  14957 FRIAR STREET         5204A-       DISPLAY OF TABS         25.0   \n",
       "4     14634 SYLVAN ST          22514          FIRE HYDRANT         68.0   \n",
       "\n",
       "       Latitude     Longitude  Month  Day  \n",
       "0  6.470239e+06  1.860397e+06      3    1  \n",
       "1  9.999900e+04  9.999900e+04      3   28  \n",
       "2  6.424012e+06  1.897916e+06      1    3  \n",
       "3  6.422948e+06  1.890266e+06      1    3  \n",
       "4  6.425072e+06  1.889888e+06      1    3  "
      ]
     },
     "execution_count": 22,
     "metadata": {},
     "output_type": "execute_result"
    }
   ],
   "source": [
    "# view dataset\n",
    "la_ticket_2017.head()"
   ]
  },
  {
   "cell_type": "code",
   "execution_count": 23,
   "metadata": {},
   "outputs": [
    {
     "data": {
      "text/plain": [
       "2254329"
      ]
     },
     "execution_count": 23,
     "metadata": {},
     "output_type": "execute_result"
    }
   ],
   "source": [
    "len(la_ticket_2017)"
   ]
  },
  {
   "cell_type": "markdown",
   "metadata": {},
   "source": [
    "### Create Nth Day of the Year Variable"
   ]
  },
  {
   "cell_type": "code",
   "execution_count": 173,
   "metadata": {},
   "outputs": [
    {
     "data": {
      "text/html": [
       "<div>\n",
       "<style scoped>\n",
       "    .dataframe tbody tr th:only-of-type {\n",
       "        vertical-align: middle;\n",
       "    }\n",
       "\n",
       "    .dataframe tbody tr th {\n",
       "        vertical-align: top;\n",
       "    }\n",
       "\n",
       "    .dataframe thead th {\n",
       "        text-align: right;\n",
       "    }\n",
       "</style>\n",
       "<table border=\"1\" class=\"dataframe\">\n",
       "  <thead>\n",
       "    <tr style=\"text-align: right;\">\n",
       "      <th></th>\n",
       "      <th>Month</th>\n",
       "      <th>Day</th>\n",
       "    </tr>\n",
       "  </thead>\n",
       "  <tbody>\n",
       "    <tr>\n",
       "      <th>0</th>\n",
       "      <td>3</td>\n",
       "      <td>1</td>\n",
       "    </tr>\n",
       "    <tr>\n",
       "      <th>1</th>\n",
       "      <td>3</td>\n",
       "      <td>28</td>\n",
       "    </tr>\n",
       "    <tr>\n",
       "      <th>2</th>\n",
       "      <td>1</td>\n",
       "      <td>3</td>\n",
       "    </tr>\n",
       "    <tr>\n",
       "      <th>3</th>\n",
       "      <td>1</td>\n",
       "      <td>3</td>\n",
       "    </tr>\n",
       "    <tr>\n",
       "      <th>4</th>\n",
       "      <td>1</td>\n",
       "      <td>3</td>\n",
       "    </tr>\n",
       "  </tbody>\n",
       "</table>\n",
       "</div>"
      ],
      "text/plain": [
       "   Month  Day\n",
       "0      3    1\n",
       "1      3   28\n",
       "2      1    3\n",
       "3      1    3\n",
       "4      1    3"
      ]
     },
     "execution_count": 173,
     "metadata": {},
     "output_type": "execute_result"
    }
   ],
   "source": [
    "month_day = la_ticket_2017[['Month', 'Day']]\n",
    "month_day.head()"
   ]
  },
  {
   "cell_type": "code",
   "execution_count": 187,
   "metadata": {},
   "outputs": [
    {
     "data": {
      "text/plain": [
       "0     2017/3/1\n",
       "1    2017/3/28\n",
       "2     2017/1/3\n",
       "3     2017/1/3\n",
       "4     2017/1/3\n",
       "dtype: object"
      ]
     },
     "execution_count": 187,
     "metadata": {},
     "output_type": "execute_result"
    }
   ],
   "source": [
    "combined = '2017/' + month_day.loc[:,'Month'].map(str) + '/' + month_day.loc[:,'Day'].map(str)\n",
    "combined.head()"
   ]
  },
  {
   "cell_type": "code",
   "execution_count": 188,
   "metadata": {},
   "outputs": [
    {
     "data": {
      "text/plain": [
       "0   2017-03-01\n",
       "1   2017-03-28\n",
       "2   2017-01-03\n",
       "3   2017-01-03\n",
       "4   2017-01-03\n",
       "dtype: datetime64[ns]"
      ]
     },
     "execution_count": 188,
     "metadata": {},
     "output_type": "execute_result"
    }
   ],
   "source": [
    "date_series = pd.to_datetime(combined, format='%Y/%m/%d')#month_day['Combined'], format='%Y/%m/%d')\n",
    "date_series.head()"
   ]
  },
  {
   "cell_type": "code",
   "execution_count": 189,
   "metadata": {},
   "outputs": [
    {
     "data": {
      "text/plain": [
       "0    60\n",
       "1    87\n",
       "2     3\n",
       "3     3\n",
       "4     3\n",
       "dtype: int64"
      ]
     },
     "execution_count": 189,
     "metadata": {},
     "output_type": "execute_result"
    }
   ],
   "source": [
    "doy = date_series.dt.dayofyear\n",
    "doy.head()"
   ]
  },
  {
   "cell_type": "code",
   "execution_count": 191,
   "metadata": {},
   "outputs": [
    {
     "data": {
      "text/plain": [
       "1"
      ]
     },
     "execution_count": 191,
     "metadata": {},
     "output_type": "execute_result"
    }
   ],
   "source": [
    "min(doy)"
   ]
  },
  {
   "cell_type": "code",
   "execution_count": 192,
   "metadata": {},
   "outputs": [
    {
     "data": {
      "text/plain": [
       "365"
      ]
     },
     "execution_count": 192,
     "metadata": {},
     "output_type": "execute_result"
    }
   ],
   "source": [
    "max(doy)"
   ]
  },
  {
   "cell_type": "code",
   "execution_count": 194,
   "metadata": {},
   "outputs": [
    {
     "data": {
      "text/plain": [
       "365"
      ]
     },
     "execution_count": 194,
     "metadata": {},
     "output_type": "execute_result"
    }
   ],
   "source": [
    "len(np.unique(doy))"
   ]
  },
  {
   "cell_type": "code",
   "execution_count": 197,
   "metadata": {},
   "outputs": [
    {
     "data": {
      "text/html": [
       "<div>\n",
       "<style scoped>\n",
       "    .dataframe tbody tr th:only-of-type {\n",
       "        vertical-align: middle;\n",
       "    }\n",
       "\n",
       "    .dataframe tbody tr th {\n",
       "        vertical-align: top;\n",
       "    }\n",
       "\n",
       "    .dataframe thead th {\n",
       "        text-align: right;\n",
       "    }\n",
       "</style>\n",
       "<table border=\"1\" class=\"dataframe\">\n",
       "  <thead>\n",
       "    <tr style=\"text-align: right;\">\n",
       "      <th></th>\n",
       "      <th>Unnamed: 0</th>\n",
       "      <th>Issue time</th>\n",
       "      <th>Meter Id</th>\n",
       "      <th>RP State Plate</th>\n",
       "      <th>Make</th>\n",
       "      <th>Color</th>\n",
       "      <th>Location</th>\n",
       "      <th>Violation code</th>\n",
       "      <th>Violation Description</th>\n",
       "      <th>Fine amount</th>\n",
       "      <th>Latitude</th>\n",
       "      <th>Longitude</th>\n",
       "      <th>Month</th>\n",
       "      <th>Day</th>\n",
       "      <th>Day of Year</th>\n",
       "    </tr>\n",
       "  </thead>\n",
       "  <tbody>\n",
       "    <tr>\n",
       "      <th>0</th>\n",
       "      <td>2777524</td>\n",
       "      <td>104.0</td>\n",
       "      <td>NaN</td>\n",
       "      <td>OR</td>\n",
       "      <td>TOYT</td>\n",
       "      <td>BL</td>\n",
       "      <td>1822 WINONA BLVD</td>\n",
       "      <td>80.56E4+</td>\n",
       "      <td>RED ZONE</td>\n",
       "      <td>93.0</td>\n",
       "      <td>6.470239e+06</td>\n",
       "      <td>1.860397e+06</td>\n",
       "      <td>3</td>\n",
       "      <td>1</td>\n",
       "      <td>60</td>\n",
       "    </tr>\n",
       "    <tr>\n",
       "      <th>1</th>\n",
       "      <td>2777558</td>\n",
       "      <td>1050.0</td>\n",
       "      <td>NaN</td>\n",
       "      <td>CA</td>\n",
       "      <td>HOND</td>\n",
       "      <td>BK</td>\n",
       "      <td>710 EL CENTRO AV</td>\n",
       "      <td>4000A1</td>\n",
       "      <td>NO EVIDENCE OF REG</td>\n",
       "      <td>50.0</td>\n",
       "      <td>9.999900e+04</td>\n",
       "      <td>9.999900e+04</td>\n",
       "      <td>3</td>\n",
       "      <td>28</td>\n",
       "      <td>87</td>\n",
       "    </tr>\n",
       "    <tr>\n",
       "      <th>2</th>\n",
       "      <td>2827647</td>\n",
       "      <td>115.0</td>\n",
       "      <td>NaN</td>\n",
       "      <td>CA</td>\n",
       "      <td>HOND</td>\n",
       "      <td>GY</td>\n",
       "      <td>7502 WILLIS AVENUE</td>\n",
       "      <td>22500E</td>\n",
       "      <td>BLOCKING DRIVEWAY</td>\n",
       "      <td>68.0</td>\n",
       "      <td>6.424012e+06</td>\n",
       "      <td>1.897916e+06</td>\n",
       "      <td>1</td>\n",
       "      <td>3</td>\n",
       "      <td>3</td>\n",
       "    </tr>\n",
       "    <tr>\n",
       "      <th>3</th>\n",
       "      <td>2827648</td>\n",
       "      <td>126.0</td>\n",
       "      <td>NaN</td>\n",
       "      <td>CA</td>\n",
       "      <td>FORD</td>\n",
       "      <td>WT</td>\n",
       "      <td>14957 FRIAR STREET</td>\n",
       "      <td>5204A-</td>\n",
       "      <td>DISPLAY OF TABS</td>\n",
       "      <td>25.0</td>\n",
       "      <td>6.422948e+06</td>\n",
       "      <td>1.890266e+06</td>\n",
       "      <td>1</td>\n",
       "      <td>3</td>\n",
       "      <td>3</td>\n",
       "    </tr>\n",
       "    <tr>\n",
       "      <th>4</th>\n",
       "      <td>2827649</td>\n",
       "      <td>132.0</td>\n",
       "      <td>NaN</td>\n",
       "      <td>CA</td>\n",
       "      <td>HOND</td>\n",
       "      <td>BK</td>\n",
       "      <td>14634 SYLVAN ST</td>\n",
       "      <td>22514</td>\n",
       "      <td>FIRE HYDRANT</td>\n",
       "      <td>68.0</td>\n",
       "      <td>6.425072e+06</td>\n",
       "      <td>1.889888e+06</td>\n",
       "      <td>1</td>\n",
       "      <td>3</td>\n",
       "      <td>3</td>\n",
       "    </tr>\n",
       "  </tbody>\n",
       "</table>\n",
       "</div>"
      ],
      "text/plain": [
       "   Unnamed: 0  Issue time Meter Id RP State Plate  Make Color  \\\n",
       "0     2777524       104.0      NaN             OR  TOYT    BL   \n",
       "1     2777558      1050.0      NaN             CA  HOND    BK   \n",
       "2     2827647       115.0      NaN             CA  HOND    GY   \n",
       "3     2827648       126.0      NaN             CA  FORD    WT   \n",
       "4     2827649       132.0      NaN             CA  HOND    BK   \n",
       "\n",
       "             Location Violation code Violation Description  Fine amount  \\\n",
       "0    1822 WINONA BLVD       80.56E4+              RED ZONE         93.0   \n",
       "1    710 EL CENTRO AV         4000A1    NO EVIDENCE OF REG         50.0   \n",
       "2  7502 WILLIS AVENUE         22500E     BLOCKING DRIVEWAY         68.0   \n",
       "3  14957 FRIAR STREET         5204A-       DISPLAY OF TABS         25.0   \n",
       "4     14634 SYLVAN ST          22514          FIRE HYDRANT         68.0   \n",
       "\n",
       "       Latitude     Longitude  Month  Day  Day of Year  \n",
       "0  6.470239e+06  1.860397e+06      3    1           60  \n",
       "1  9.999900e+04  9.999900e+04      3   28           87  \n",
       "2  6.424012e+06  1.897916e+06      1    3            3  \n",
       "3  6.422948e+06  1.890266e+06      1    3            3  \n",
       "4  6.425072e+06  1.889888e+06      1    3            3  "
      ]
     },
     "execution_count": 197,
     "metadata": {},
     "output_type": "execute_result"
    }
   ],
   "source": [
    "la_ticket_2017['Day of Year'] = doy\n",
    "la_ticket_2017.head()"
   ]
  },
  {
   "cell_type": "markdown",
   "metadata": {},
   "source": [
    "### Visualize DOY"
   ]
  },
  {
   "cell_type": "code",
   "execution_count": 209,
   "metadata": {},
   "outputs": [
    {
     "data": {
      "text/plain": [
       "array([[<matplotlib.axes._subplots.AxesSubplot object at 0x264a66550>]],\n",
       "      dtype=object)"
      ]
     },
     "execution_count": 209,
     "metadata": {},
     "output_type": "execute_result"
    },
    {
     "data": {
      "image/png": "[encoded data removed]",
      "text/plain": [
       "<Figure size 432x288 with 1 Axes>"
      ]
     },
     "metadata": {},
     "output_type": "display_data"
    }
   ],
   "source": [
    "la_ticket_2017.hist('Day of Year', bins=365, color = 'purple')"
   ]
  },
  {
   "cell_type": "code",
   "execution_count": 214,
   "metadata": {},
   "outputs": [
    {
     "data": {
      "text/plain": [
       "6176.243835616438"
      ]
     },
     "execution_count": 214,
     "metadata": {},
     "output_type": "execute_result"
    }
   ],
   "source": [
    "len(la_ticket_2017)/365"
   ]
  },
  {
   "cell_type": "raw",
   "metadata": {},
   "source": [
    "Goals - \n",
    "\n",
    "EDA 1 - \n",
    "\n",
    "Create Day of the year variable\n",
    "- visualize day of year / tickets given\n",
    "- visualize day of year / sum(fine amount)\n",
    "- visualize issue time \n",
    "- find best min and max\n",
    "\n"
   ]
  }
 ],
 "metadata": {
  "kernelspec": {
   "display_name": "Python 3",
   "language": "python",
   "name": "python3"
  },
  "language_info": {
   "codemirror_mode": {
    "name": "ipython",
    "version": 3
   },
   "file_extension": ".py",
   "mimetype": "text/x-python",
   "name": "python",
   "nbconvert_exporter": "python",
   "pygments_lexer": "ipython3",
   "version": "3.6.6"
  }
 },
 "nbformat": 4,
 "nbformat_minor": 2
}
