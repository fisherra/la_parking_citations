{
 "cells": [
  {
   "cell_type": "markdown",
   "metadata": {},
   "source": [
    "#### Fisher Ankney\n",
    "#### October 27th, 2018\n",
    "\n",
    "<br> \n",
    "\n",
    "data avaliable on Kaggle or https://data.lacity.org/\n",
    "\n",
    "This goal of this notebook understand relationships between categories. "
   ]
  },
  {
   "cell_type": "raw",
   "metadata": {},
   "source": [
    "EDA - 2\n",
    "Categorical Analysis\n",
    "- Make and color vs fine quantity, amount, type\n",
    "- which meters are the worst?\n",
    "- Most common violation?\n",
    "- violation type always charged the same? why not if so?\n",
    "- most common violation\n",
    "- least common violation\n",
    "- Most expensive violation\n",
    "- cheapest violation"
   ]
  }
 ],
 "metadata": {
  "kernelspec": {
   "display_name": "Python 3",
   "language": "python",
   "name": "python3"
  },
  "language_info": {
   "codemirror_mode": {
    "name": "ipython",
    "version": 3
   },
   "file_extension": ".py",
   "mimetype": "text/x-python",
   "name": "python",
   "nbconvert_exporter": "python",
   "pygments_lexer": "ipython3",
   "version": "3.6.6"
  }
 },
 "nbformat": 4,
 "nbformat_minor": 2
}
