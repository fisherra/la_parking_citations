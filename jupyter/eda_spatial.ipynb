{
 "cells": [
  {
   "cell_type": "markdown",
   "metadata": {},
   "source": [
    "#### Fisher Ankney\n",
    "#### October 27th, 2018\n",
    "\n",
    "<br> \n",
    "\n",
    "data avaliable on Kaggle or https://data.lacity.org/\n",
    "\n",
    "This goal of this notebook understand relationships with date and time."
   ]
  },
  {
   "cell_type": "raw",
   "metadata": {},
   "source": [
    "EDA - 3\n",
    "Spatial Analysis\n",
    "- Ticket Location against city Map\n",
    "- location of parking meters\n",
    "- Tickets given vs state map\n",
    "- Other spatial analysis"
   ]
  }
 ],
 "metadata": {
  "kernelspec": {
   "display_name": "Python 3",
   "language": "python",
   "name": "python3"
  },
  "language_info": {
   "codemirror_mode": {
    "name": "ipython",
    "version": 3
   },
   "file_extension": ".py",
   "mimetype": "text/x-python",
   "name": "python",
   "nbconvert_exporter": "python",
   "pygments_lexer": "ipython3",
   "version": "3.6.6"
  }
 },
 "nbformat": 4,
 "nbformat_minor": 2
}
