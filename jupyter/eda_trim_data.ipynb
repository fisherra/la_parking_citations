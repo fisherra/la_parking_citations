{
 "cells": [
  {
   "cell_type": "markdown",
   "metadata": {},
   "source": [
    "## LA Parking Citation Exploratory Data Analysis with Python - Part I\n",
    "\n",
    "\n",
    "<br> \n",
    "\n",
    "### Introduction\n",
    "\n",
    "This is the first of a four-part exploratory data analysis project on an open source parking citation dataset. The project utilizes Python and several of its data science oriented packages (NumPy, SciPy, Matplotlib, Pandas, GeoPandas). This is my first time using Python in a data-science oriented project, so be python people, be prepared to be offended by a bunch of non-pythonic code!\n",
    "\n",
    "The dataset I used for this EDA is available for free on [Kaggle](https://www.kaggle.com/) or at the Los Angeles open source data [website](https://data.lacity.org/). \n",
    "\n",
    "The analysis is initially done in [Jupyter Lab](http://jupyter.org/), which can be exported to a markdown file with its associated images. I add [YAML](http://yaml.org/) (a simple file configuration language) to the markdown file, then copy and paste finished product and it's images to my website's [jekyll](https://jekyllrb.com/) folder. Once everything is properly updated and running on my local server, I push the changes to [Github](https://github.com/), which automatically updates my hosted site on [Github Pages](https://pages.github.com/).\n",
    "\n",
    "In this post, I wish to explore the dataset's variables and observations, trim and transform 'useless' variables to become more useful, reduce the file size, and store the results for future exploration. \n",
    "\n",
    "Let's get to it!"
   ]
  },
  {
   "cell_type": "markdown",
   "metadata": {},
   "source": [
    "### Load Libraries\n",
    "\n",
    "In the first part of this EDA we'll only need to load the [NumPy](http://www.numpy.org/) and [Pandas](https://pandas.pydata.org/) packages. Importing os allows you to interface with the underlying operating system that python is running on, in my case MacOS. This is necessary to calculate file sizes. Warnings allows you to suppress warning messages.\n"
   ]
  },
  {
   "cell_type": "code",
   "execution_count": 40,
   "metadata": {},
   "outputs": [],
   "source": [
    "import numpy as np\n",
    "import pandas as pd\n",
    "import os\n",
    "import warnings\n",
    "\n",
    "warnings.filterwarnings('ignore')"
   ]
  },
  {
   "cell_type": "markdown",
   "metadata": {},
   "source": [
    "### Verify Data Size and Shape\n",
    "\n",
    "I've downloaded the full parking citation dataset from the City of Los Angeles Open Data Website. It stretches as far back as 2015, and is updated daily. That makes for a lot of parking citations. Let's explore just how large this dataset is, in terms of variables, observations, and memory space. "
   ]
  },
  {
   "cell_type": "code",
   "execution_count": 41,
   "metadata": {},
   "outputs": [
    {
     "data": {
      "text/plain": [
       "1.021944555"
      ]
     },
     "execution_count": 41,
     "metadata": {},
     "output_type": "execute_result"
    }
   ],
   "source": [
    "# return file size in GB\n",
    "os.path.getsize('input/parking_citation.csv') / (1*10**9)"
   ]
  },
  {
   "cell_type": "code",
   "execution_count": 3,
   "metadata": {},
   "outputs": [],
   "source": [
    "# read full data csv from input folder\n",
    "la_ticket_full = pd.read_csv(\"~/Documents/data_science/py_la_tickets/input/parking_citation.csv\")"
   ]
  },
  {
   "cell_type": "code",
   "execution_count": 4,
   "metadata": {},
   "outputs": [
    {
     "data": {
      "text/plain": [
       "(7201006, 19)"
      ]
     },
     "execution_count": 4,
     "metadata": {},
     "output_type": "execute_result"
    }
   ],
   "source": [
    "# return shape of newly created dataframe\n",
    "la_ticket_full.shape"
   ]
  },
  {
   "cell_type": "code",
   "execution_count": 5,
   "metadata": {},
   "outputs": [
    {
     "data": {
      "text/html": [
       "<div>\n",
       "<style scoped>\n",
       "    .dataframe tbody tr th:only-of-type {\n",
       "        vertical-align: middle;\n",
       "    }\n",
       "\n",
       "    .dataframe tbody tr th {\n",
       "        vertical-align: top;\n",
       "    }\n",
       "\n",
       "    .dataframe thead th {\n",
       "        text-align: right;\n",
       "    }\n",
       "</style>\n",
       "<table border=\"1\" class=\"dataframe\">\n",
       "  <thead>\n",
       "    <tr style=\"text-align: right;\">\n",
       "      <th></th>\n",
       "      <th>Ticket number</th>\n",
       "      <th>Issue Date</th>\n",
       "      <th>Issue time</th>\n",
       "      <th>Meter Id</th>\n",
       "      <th>Marked Time</th>\n",
       "      <th>RP State Plate</th>\n",
       "      <th>Plate Expiry Date</th>\n",
       "      <th>VIN</th>\n",
       "      <th>Make</th>\n",
       "      <th>Body Style</th>\n",
       "      <th>Color</th>\n",
       "      <th>Location</th>\n",
       "      <th>Route</th>\n",
       "      <th>Agency</th>\n",
       "      <th>Violation code</th>\n",
       "      <th>Violation Description</th>\n",
       "      <th>Fine amount</th>\n",
       "      <th>Latitude</th>\n",
       "      <th>Longitude</th>\n",
       "    </tr>\n",
       "  </thead>\n",
       "  <tbody>\n",
       "    <tr>\n",
       "      <th>0</th>\n",
       "      <td>4272349605</td>\n",
       "      <td>2015/12/30 12:00:00 AM</td>\n",
       "      <td>2201.0</td>\n",
       "      <td>NaN</td>\n",
       "      <td>NaN</td>\n",
       "      <td>CA</td>\n",
       "      <td>201605.0</td>\n",
       "      <td>NaN</td>\n",
       "      <td>OLDS</td>\n",
       "      <td>PA</td>\n",
       "      <td>GN</td>\n",
       "      <td>3069 SAN MARINO ST</td>\n",
       "      <td>00403</td>\n",
       "      <td>54.0</td>\n",
       "      <td>80.56E4+</td>\n",
       "      <td>RED ZONE</td>\n",
       "      <td>93.0</td>\n",
       "      <td>6471840.7</td>\n",
       "      <td>1842349.7</td>\n",
       "    </tr>\n",
       "    <tr>\n",
       "      <th>1</th>\n",
       "      <td>4272349616</td>\n",
       "      <td>2015/12/30 12:00:00 AM</td>\n",
       "      <td>2205.0</td>\n",
       "      <td>NaN</td>\n",
       "      <td>NaN</td>\n",
       "      <td>CA</td>\n",
       "      <td>201508.0</td>\n",
       "      <td>NaN</td>\n",
       "      <td>HOND</td>\n",
       "      <td>PA</td>\n",
       "      <td>WT</td>\n",
       "      <td>2936 8TH ST W</td>\n",
       "      <td>00403</td>\n",
       "      <td>54.0</td>\n",
       "      <td>80.56E1</td>\n",
       "      <td>WHITE ZONE</td>\n",
       "      <td>58.0</td>\n",
       "      <td>6473823.2</td>\n",
       "      <td>1843512.0</td>\n",
       "    </tr>\n",
       "    <tr>\n",
       "      <th>2</th>\n",
       "      <td>4272821512</td>\n",
       "      <td>2015/12/30 12:00:00 AM</td>\n",
       "      <td>1725.0</td>\n",
       "      <td>NaN</td>\n",
       "      <td>NaN</td>\n",
       "      <td>CA</td>\n",
       "      <td>10.0</td>\n",
       "      <td>NaN</td>\n",
       "      <td>TOYT</td>\n",
       "      <td>PA</td>\n",
       "      <td>SL</td>\n",
       "      <td>301 LAUREL AV N</td>\n",
       "      <td>00401</td>\n",
       "      <td>54.0</td>\n",
       "      <td>5204A-</td>\n",
       "      <td>DISPLAY OF TABS</td>\n",
       "      <td>25.0</td>\n",
       "      <td>6451207.5</td>\n",
       "      <td>1850273.2</td>\n",
       "    </tr>\n",
       "    <tr>\n",
       "      <th>3</th>\n",
       "      <td>4272821523</td>\n",
       "      <td>2015/12/30 12:00:00 AM</td>\n",
       "      <td>1738.0</td>\n",
       "      <td>WF74</td>\n",
       "      <td>NaN</td>\n",
       "      <td>CA</td>\n",
       "      <td>2.0</td>\n",
       "      <td>NaN</td>\n",
       "      <td>RROV</td>\n",
       "      <td>PA</td>\n",
       "      <td>BK</td>\n",
       "      <td>8321 3RD ST W</td>\n",
       "      <td>00401</td>\n",
       "      <td>54.0</td>\n",
       "      <td>88.13B+</td>\n",
       "      <td>METER EXP.</td>\n",
       "      <td>63.0</td>\n",
       "      <td>6449387.2</td>\n",
       "      <td>1849063.5</td>\n",
       "    </tr>\n",
       "    <tr>\n",
       "      <th>4</th>\n",
       "      <td>4272821534</td>\n",
       "      <td>2015/12/30 12:00:00 AM</td>\n",
       "      <td>1807.0</td>\n",
       "      <td>13</td>\n",
       "      <td>NaN</td>\n",
       "      <td>CA</td>\n",
       "      <td>1.0</td>\n",
       "      <td>NaN</td>\n",
       "      <td>FORD</td>\n",
       "      <td>PA</td>\n",
       "      <td>GN</td>\n",
       "      <td>121 CROFT AVE</td>\n",
       "      <td>00401</td>\n",
       "      <td>54.0</td>\n",
       "      <td>80.58L</td>\n",
       "      <td>PREFERENTIAL PARKING</td>\n",
       "      <td>68.0</td>\n",
       "      <td>6448347.2</td>\n",
       "      <td>1849662.2</td>\n",
       "    </tr>\n",
       "  </tbody>\n",
       "</table>\n",
       "</div>"
      ],
      "text/plain": [
       "  Ticket number              Issue Date  Issue time Meter Id  Marked Time  \\\n",
       "0    4272349605  2015/12/30 12:00:00 AM      2201.0      NaN          NaN   \n",
       "1    4272349616  2015/12/30 12:00:00 AM      2205.0      NaN          NaN   \n",
       "2    4272821512  2015/12/30 12:00:00 AM      1725.0      NaN          NaN   \n",
       "3    4272821523  2015/12/30 12:00:00 AM      1738.0     WF74          NaN   \n",
       "4    4272821534  2015/12/30 12:00:00 AM      1807.0       13          NaN   \n",
       "\n",
       "  RP State Plate  Plate Expiry Date  VIN  Make Body Style Color  \\\n",
       "0             CA           201605.0  NaN  OLDS         PA    GN   \n",
       "1             CA           201508.0  NaN  HOND         PA    WT   \n",
       "2             CA               10.0  NaN  TOYT         PA    SL   \n",
       "3             CA                2.0  NaN  RROV         PA    BK   \n",
       "4             CA                1.0  NaN  FORD         PA    GN   \n",
       "\n",
       "             Location  Route  Agency Violation code Violation Description  \\\n",
       "0  3069 SAN MARINO ST  00403    54.0       80.56E4+              RED ZONE   \n",
       "1       2936 8TH ST W  00403    54.0        80.56E1            WHITE ZONE   \n",
       "2     301 LAUREL AV N  00401    54.0         5204A-       DISPLAY OF TABS   \n",
       "3       8321 3RD ST W  00401    54.0        88.13B+            METER EXP.   \n",
       "4       121 CROFT AVE  00401    54.0         80.58L  PREFERENTIAL PARKING   \n",
       "\n",
       "   Fine amount   Latitude  Longitude  \n",
       "0         93.0  6471840.7  1842349.7  \n",
       "1         58.0  6473823.2  1843512.0  \n",
       "2         25.0  6451207.5  1850273.2  \n",
       "3         63.0  6449387.2  1849063.5  \n",
       "4         68.0  6448347.2  1849662.2  "
      ]
     },
     "execution_count": 5,
     "metadata": {},
     "output_type": "execute_result"
    }
   ],
   "source": [
    "# check out what the dataframe looks like\n",
    "la_ticket_full.head()"
   ]
  },
  {
   "cell_type": "markdown",
   "metadata": {},
   "source": [
    "The file is 1.02 GB, containing 7,201,006 rows and 19 columns. While 1 GB of data isn't necessarily huge, I'm going to take a smaller slice of it to conduct my data analysis. Github only allows for file submissions that are < 100 mb in size without utilizing [Git Large File Storage (LFS)](https://git-lfs.github.com/) so that's something to take into account. \n",
    "\n",
    "I'm going to conduct the analysis on the entire year of 2017 to shorten up the dataset a bit. I'll also drop some of these variables that seem rather boring, such as 'Ticket Number' or 'Plate Expiry Date'. "
   ]
  },
  {
   "cell_type": "markdown",
   "metadata": {},
   "source": [
    "### 2017 Data\n",
    "\n",
    "Reducing the dataset to include tickets issued in 2017 isn't much of an issue. I'll employ string matching and indexing to accomplish the task. "
   ]
  },
  {
   "cell_type": "code",
   "execution_count": 6,
   "metadata": {},
   "outputs": [
    {
     "data": {
      "text/plain": [
       "0    2015/12/30 12:00:00 AM\n",
       "1    2015/12/30 12:00:00 AM\n",
       "2    2015/12/30 12:00:00 AM\n",
       "3    2015/12/30 12:00:00 AM\n",
       "4    2015/12/30 12:00:00 AM\n",
       "Name: Issue Date, dtype: object"
      ]
     },
     "execution_count": 6,
     "metadata": {},
     "output_type": "execute_result"
    }
   ],
   "source": [
    "# pull Issue Date variable from the main Dataframe to create a Pandas Series of just date-times\n",
    "la_ticket_issue = la_ticket_full['Issue Date']\n",
    "la_ticket_issue.head()"
   ]
  },
  {
   "cell_type": "code",
   "execution_count": 7,
   "metadata": {},
   "outputs": [
    {
     "data": {
      "text/plain": [
       "2254329"
      ]
     },
     "execution_count": 7,
     "metadata": {},
     "output_type": "execute_result"
    }
   ],
   "source": [
    "# how many of the issue date variables contain '2017'\n",
    "sum(la_ticket_issue.str.contains('2017') == True)"
   ]
  },
  {
   "cell_type": "code",
   "execution_count": 8,
   "metadata": {},
   "outputs": [
    {
     "data": {
      "text/plain": [
       "0    False\n",
       "1    False\n",
       "2    False\n",
       "3    False\n",
       "4    False\n",
       "Name: Issue Date, dtype: bool"
      ]
     },
     "execution_count": 8,
     "metadata": {},
     "output_type": "execute_result"
    }
   ],
   "source": [
    "# create a True / False list for indexing the data\n",
    "la_ticket_2017_index = la_ticket_issue.str.contains('2017')\n",
    "la_ticket_2017_index.head()"
   ]
  },
  {
   "cell_type": "code",
   "execution_count": 9,
   "metadata": {},
   "outputs": [
    {
     "data": {
      "text/plain": [
       "2254329"
      ]
     },
     "execution_count": 9,
     "metadata": {},
     "output_type": "execute_result"
    }
   ],
   "source": [
    "# apply the index to the full dataframe to create a new '2017' Dataframe\n",
    "la_ticket_2017 = la_ticket_full[la_ticket_2017_index]\n",
    "# make sure length of dataset matches previously determined 'sum' of 2017 strings\n",
    "len(la_ticket_2017)"
   ]
  },
  {
   "cell_type": "code",
   "execution_count": 10,
   "metadata": {},
   "outputs": [
    {
     "data": {
      "text/html": [
       "<div>\n",
       "<style scoped>\n",
       "    .dataframe tbody tr th:only-of-type {\n",
       "        vertical-align: middle;\n",
       "    }\n",
       "\n",
       "    .dataframe tbody tr th {\n",
       "        vertical-align: top;\n",
       "    }\n",
       "\n",
       "    .dataframe thead th {\n",
       "        text-align: right;\n",
       "    }\n",
       "</style>\n",
       "<table border=\"1\" class=\"dataframe\">\n",
       "  <thead>\n",
       "    <tr style=\"text-align: right;\">\n",
       "      <th></th>\n",
       "      <th>Ticket number</th>\n",
       "      <th>Issue Date</th>\n",
       "      <th>Issue time</th>\n",
       "      <th>Meter Id</th>\n",
       "      <th>Marked Time</th>\n",
       "      <th>RP State Plate</th>\n",
       "      <th>Plate Expiry Date</th>\n",
       "      <th>VIN</th>\n",
       "      <th>Make</th>\n",
       "      <th>Body Style</th>\n",
       "      <th>Color</th>\n",
       "      <th>Location</th>\n",
       "      <th>Route</th>\n",
       "      <th>Agency</th>\n",
       "      <th>Violation code</th>\n",
       "      <th>Violation Description</th>\n",
       "      <th>Fine amount</th>\n",
       "      <th>Latitude</th>\n",
       "      <th>Longitude</th>\n",
       "    </tr>\n",
       "  </thead>\n",
       "  <tbody>\n",
       "    <tr>\n",
       "      <th>2735704</th>\n",
       "      <td>1115377911</td>\n",
       "      <td>2017/12/18 12:00:00 AM</td>\n",
       "      <td>2205.0</td>\n",
       "      <td>NaN</td>\n",
       "      <td>NaN</td>\n",
       "      <td>CA</td>\n",
       "      <td>201712.0</td>\n",
       "      <td>NaN</td>\n",
       "      <td>HOND</td>\n",
       "      <td>PA</td>\n",
       "      <td>BK</td>\n",
       "      <td>1323 S FLOWER ST</td>\n",
       "      <td>00192</td>\n",
       "      <td>1.0</td>\n",
       "      <td>4000A1</td>\n",
       "      <td>NO EVIDENCE OF REG</td>\n",
       "      <td>50.0</td>\n",
       "      <td>6.480729e+06</td>\n",
       "      <td>1.836883e+06</td>\n",
       "    </tr>\n",
       "    <tr>\n",
       "      <th>2771883</th>\n",
       "      <td>1114752936</td>\n",
       "      <td>2017/05/11 12:00:00 AM</td>\n",
       "      <td>800.0</td>\n",
       "      <td>NaN</td>\n",
       "      <td>NaN</td>\n",
       "      <td>CA</td>\n",
       "      <td>201712.0</td>\n",
       "      <td>NaN</td>\n",
       "      <td>FRHT</td>\n",
       "      <td>TR</td>\n",
       "      <td>WH</td>\n",
       "      <td>INDIANA/NOAKES</td>\n",
       "      <td>CM99</td>\n",
       "      <td>1.0</td>\n",
       "      <td>4000A1</td>\n",
       "      <td>NO EVIDENCE OF REG</td>\n",
       "      <td>50.0</td>\n",
       "      <td>9.999900e+04</td>\n",
       "      <td>9.999900e+04</td>\n",
       "    </tr>\n",
       "    <tr>\n",
       "      <th>2777524</th>\n",
       "      <td>4302749861</td>\n",
       "      <td>2017/03/01 12:00:00 AM</td>\n",
       "      <td>104.0</td>\n",
       "      <td>NaN</td>\n",
       "      <td>NaN</td>\n",
       "      <td>OR</td>\n",
       "      <td>3.0</td>\n",
       "      <td>NaN</td>\n",
       "      <td>TOYT</td>\n",
       "      <td>PA</td>\n",
       "      <td>BL</td>\n",
       "      <td>1822 WINONA BLVD</td>\n",
       "      <td>00402</td>\n",
       "      <td>54.0</td>\n",
       "      <td>80.56E4+</td>\n",
       "      <td>RED ZONE</td>\n",
       "      <td>93.0</td>\n",
       "      <td>6.470239e+06</td>\n",
       "      <td>1.860397e+06</td>\n",
       "    </tr>\n",
       "    <tr>\n",
       "      <th>2777558</th>\n",
       "      <td>1120840291</td>\n",
       "      <td>2017/03/28 12:00:00 AM</td>\n",
       "      <td>1050.0</td>\n",
       "      <td>NaN</td>\n",
       "      <td>NaN</td>\n",
       "      <td>CA</td>\n",
       "      <td>201708.0</td>\n",
       "      <td>NaN</td>\n",
       "      <td>HOND</td>\n",
       "      <td>PA</td>\n",
       "      <td>BK</td>\n",
       "      <td>710 EL CENTRO AV</td>\n",
       "      <td>00001</td>\n",
       "      <td>1.0</td>\n",
       "      <td>4000A1</td>\n",
       "      <td>NO EVIDENCE OF REG</td>\n",
       "      <td>50.0</td>\n",
       "      <td>9.999900e+04</td>\n",
       "      <td>9.999900e+04</td>\n",
       "    </tr>\n",
       "    <tr>\n",
       "      <th>2777651</th>\n",
       "      <td>4308029526</td>\n",
       "      <td>2017/05/15 12:00:00 AM</td>\n",
       "      <td>134.0</td>\n",
       "      <td>NaN</td>\n",
       "      <td>NaN</td>\n",
       "      <td>CA</td>\n",
       "      <td>NaN</td>\n",
       "      <td>NaN</td>\n",
       "      <td>LEXS</td>\n",
       "      <td>PA</td>\n",
       "      <td>BL</td>\n",
       "      <td>1701 VINE ST</td>\n",
       "      <td>00402</td>\n",
       "      <td>54.0</td>\n",
       "      <td>80.69B</td>\n",
       "      <td>NO PARKING</td>\n",
       "      <td>73.0</td>\n",
       "      <td>6.462770e+06</td>\n",
       "      <td>1.859525e+06</td>\n",
       "    </tr>\n",
       "  </tbody>\n",
       "</table>\n",
       "</div>"
      ],
      "text/plain": [
       "        Ticket number              Issue Date  Issue time Meter Id  \\\n",
       "2735704    1115377911  2017/12/18 12:00:00 AM      2205.0      NaN   \n",
       "2771883    1114752936  2017/05/11 12:00:00 AM       800.0      NaN   \n",
       "2777524    4302749861  2017/03/01 12:00:00 AM       104.0      NaN   \n",
       "2777558    1120840291  2017/03/28 12:00:00 AM      1050.0      NaN   \n",
       "2777651    4308029526  2017/05/15 12:00:00 AM       134.0      NaN   \n",
       "\n",
       "         Marked Time RP State Plate  Plate Expiry Date  VIN  Make Body Style  \\\n",
       "2735704          NaN             CA           201712.0  NaN  HOND         PA   \n",
       "2771883          NaN             CA           201712.0  NaN  FRHT         TR   \n",
       "2777524          NaN             OR                3.0  NaN  TOYT         PA   \n",
       "2777558          NaN             CA           201708.0  NaN  HOND         PA   \n",
       "2777651          NaN             CA                NaN  NaN  LEXS         PA   \n",
       "\n",
       "        Color          Location  Route  Agency Violation code  \\\n",
       "2735704    BK  1323 S FLOWER ST  00192     1.0         4000A1   \n",
       "2771883    WH    INDIANA/NOAKES   CM99     1.0         4000A1   \n",
       "2777524    BL  1822 WINONA BLVD  00402    54.0       80.56E4+   \n",
       "2777558    BK  710 EL CENTRO AV  00001     1.0         4000A1   \n",
       "2777651    BL      1701 VINE ST  00402    54.0         80.69B   \n",
       "\n",
       "        Violation Description  Fine amount      Latitude     Longitude  \n",
       "2735704    NO EVIDENCE OF REG         50.0  6.480729e+06  1.836883e+06  \n",
       "2771883    NO EVIDENCE OF REG         50.0  9.999900e+04  9.999900e+04  \n",
       "2777524              RED ZONE         93.0  6.470239e+06  1.860397e+06  \n",
       "2777558    NO EVIDENCE OF REG         50.0  9.999900e+04  9.999900e+04  \n",
       "2777651            NO PARKING         73.0  6.462770e+06  1.859525e+06  "
      ]
     },
     "execution_count": 10,
     "metadata": {},
     "output_type": "execute_result"
    }
   ],
   "source": [
    "# ensure variables remain untouched\n",
    "la_ticket_2017.head()"
   ]
  },
  {
   "cell_type": "code",
   "execution_count": 11,
   "metadata": {},
   "outputs": [
    {
     "data": {
      "text/plain": [
       "'2017/01/01 12:00:00 AM'"
      ]
     },
     "execution_count": 11,
     "metadata": {},
     "output_type": "execute_result"
    }
   ],
   "source": [
    "# first issue date in the new 2017 dataset\n",
    "min(la_ticket_2017['Issue Date'])"
   ]
  },
  {
   "cell_type": "code",
   "execution_count": 12,
   "metadata": {},
   "outputs": [
    {
     "data": {
      "text/plain": [
       "'2017/12/31 12:00:00 AM'"
      ]
     },
     "execution_count": 12,
     "metadata": {},
     "output_type": "execute_result"
    }
   ],
   "source": [
    "# last issue date in the new 2017 dataset\n",
    "max(la_ticket_2017['Issue Date'])"
   ]
  },
  {
   "cell_type": "markdown",
   "metadata": {},
   "source": [
    "The first ticket in the new dataset was given in the first minute of January 1st, and the last ticket was given in the last minute of December 31st. The dataset still contains some 2.2 million observations, which should be more than enough to work with! \n",
    "\n",
    "The next step in my data-wrangling workflow is to alter and drop initial variables that aren't pleasing to work with. Starting with the date-time. "
   ]
  },
  {
   "cell_type": "markdown",
   "metadata": {},
   "source": [
    "### Create Day of the Year Variable"
   ]
  },
  {
   "cell_type": "markdown",
   "metadata": {},
   "source": [
    "We've been working with the variable 'Issue Date'. A useful variable, but in a rather unsightly form. Issue time is already reported separately from Issue Date in the dataset, thus all Issue Dates report a time of midnight. \n",
    "\n",
    "I want to drop the time from issue date, coerce the structure from a string to an actual date-time, and create a corresponding day of the year variable. A day of the year variable will allow me to easily visualize ticket trends throughout the year as a whole. "
   ]
  },
  {
   "cell_type": "code",
   "execution_count": 13,
   "metadata": {},
   "outputs": [
    {
     "data": {
      "text/plain": [
       "str"
      ]
     },
     "execution_count": 13,
     "metadata": {},
     "output_type": "execute_result"
    }
   ],
   "source": [
    "# create a new Series to work with outside of the main Dataframe\n",
    "date_time = la_ticket_2017['Issue Date']\n",
    "# check what data type 'Issue Date' is stored as\n",
    "type(date_time.iloc[0,])"
   ]
  },
  {
   "cell_type": "code",
   "execution_count": 14,
   "metadata": {},
   "outputs": [
    {
     "data": {
      "text/html": [
       "<div>\n",
       "<style scoped>\n",
       "    .dataframe tbody tr th:only-of-type {\n",
       "        vertical-align: middle;\n",
       "    }\n",
       "\n",
       "    .dataframe tbody tr th {\n",
       "        vertical-align: top;\n",
       "    }\n",
       "\n",
       "    .dataframe thead th {\n",
       "        text-align: right;\n",
       "    }\n",
       "</style>\n",
       "<table border=\"1\" class=\"dataframe\">\n",
       "  <thead>\n",
       "    <tr style=\"text-align: right;\">\n",
       "      <th></th>\n",
       "      <th>0</th>\n",
       "      <th>1</th>\n",
       "    </tr>\n",
       "  </thead>\n",
       "  <tbody>\n",
       "    <tr>\n",
       "      <th>2735704</th>\n",
       "      <td>2017/12/18</td>\n",
       "      <td>12:00:00 AM</td>\n",
       "    </tr>\n",
       "    <tr>\n",
       "      <th>2771883</th>\n",
       "      <td>2017/05/11</td>\n",
       "      <td>12:00:00 AM</td>\n",
       "    </tr>\n",
       "    <tr>\n",
       "      <th>2777524</th>\n",
       "      <td>2017/03/01</td>\n",
       "      <td>12:00:00 AM</td>\n",
       "    </tr>\n",
       "    <tr>\n",
       "      <th>2777558</th>\n",
       "      <td>2017/03/28</td>\n",
       "      <td>12:00:00 AM</td>\n",
       "    </tr>\n",
       "    <tr>\n",
       "      <th>2777651</th>\n",
       "      <td>2017/05/15</td>\n",
       "      <td>12:00:00 AM</td>\n",
       "    </tr>\n",
       "  </tbody>\n",
       "</table>\n",
       "</div>"
      ],
      "text/plain": [
       "                  0            1\n",
       "2735704  2017/12/18  12:00:00 AM\n",
       "2771883  2017/05/11  12:00:00 AM\n",
       "2777524  2017/03/01  12:00:00 AM\n",
       "2777558  2017/03/28  12:00:00 AM\n",
       "2777651  2017/05/15  12:00:00 AM"
      ]
     },
     "execution_count": 14,
     "metadata": {},
     "output_type": "execute_result"
    }
   ],
   "source": [
    "# split string into date and time based on the space between them\n",
    "date_time_split = date_time.str.split(' ', n=1, expand = True)\n",
    "date_time_split.head()"
   ]
  },
  {
   "cell_type": "code",
   "execution_count": 15,
   "metadata": {},
   "outputs": [
    {
     "data": {
      "text/plain": [
       "2735704    2017/12/18\n",
       "2771883    2017/05/11\n",
       "2777524    2017/03/01\n",
       "2777558    2017/03/28\n",
       "2777651    2017/05/15\n",
       "Name: 0, dtype: object"
      ]
     },
     "execution_count": 15,
     "metadata": {},
     "output_type": "execute_result"
    }
   ],
   "source": [
    "# use only date, as we have accurate issue times in another dataset variable\n",
    "date = date_time_split.iloc[:,0]\n",
    "date.head()"
   ]
  },
  {
   "cell_type": "code",
   "execution_count": 16,
   "metadata": {},
   "outputs": [
    {
     "data": {
      "text/plain": [
       "2735704   2017-12-18\n",
       "2771883   2017-05-11\n",
       "2777524   2017-03-01\n",
       "2777558   2017-03-28\n",
       "2777651   2017-05-15\n",
       "Name: 0, dtype: datetime64[ns]"
      ]
     },
     "execution_count": 16,
     "metadata": {},
     "output_type": "execute_result"
    }
   ],
   "source": [
    "# convert datatype to date-time using pandas function\n",
    "date = pd.to_datetime(date, format='%Y/%m/%d')\n",
    "date.head()"
   ]
  },
  {
   "cell_type": "code",
   "execution_count": 17,
   "metadata": {},
   "outputs": [],
   "source": [
    "# use built-in datetime functionality 'dt' to create 3 new variables\n",
    "day_of_year = date.dt.dayofyear\n",
    "month = date.dt.month\n",
    "day = date.dt.day"
   ]
  },
  {
   "cell_type": "code",
   "execution_count": 18,
   "metadata": {},
   "outputs": [
    {
     "data": {
      "text/html": [
       "<div>\n",
       "<style scoped>\n",
       "    .dataframe tbody tr th:only-of-type {\n",
       "        vertical-align: middle;\n",
       "    }\n",
       "\n",
       "    .dataframe tbody tr th {\n",
       "        vertical-align: top;\n",
       "    }\n",
       "\n",
       "    .dataframe thead th {\n",
       "        text-align: right;\n",
       "    }\n",
       "</style>\n",
       "<table border=\"1\" class=\"dataframe\">\n",
       "  <thead>\n",
       "    <tr style=\"text-align: right;\">\n",
       "      <th></th>\n",
       "      <th>Date</th>\n",
       "      <th>Month</th>\n",
       "      <th>Day</th>\n",
       "      <th>Day of Year</th>\n",
       "    </tr>\n",
       "  </thead>\n",
       "  <tbody>\n",
       "    <tr>\n",
       "      <th>2735704</th>\n",
       "      <td>2017-12-18</td>\n",
       "      <td>12</td>\n",
       "      <td>18</td>\n",
       "      <td>352</td>\n",
       "    </tr>\n",
       "    <tr>\n",
       "      <th>2771883</th>\n",
       "      <td>2017-05-11</td>\n",
       "      <td>5</td>\n",
       "      <td>11</td>\n",
       "      <td>131</td>\n",
       "    </tr>\n",
       "    <tr>\n",
       "      <th>2777524</th>\n",
       "      <td>2017-03-01</td>\n",
       "      <td>3</td>\n",
       "      <td>1</td>\n",
       "      <td>60</td>\n",
       "    </tr>\n",
       "    <tr>\n",
       "      <th>2777558</th>\n",
       "      <td>2017-03-28</td>\n",
       "      <td>3</td>\n",
       "      <td>28</td>\n",
       "      <td>87</td>\n",
       "    </tr>\n",
       "    <tr>\n",
       "      <th>2777651</th>\n",
       "      <td>2017-05-15</td>\n",
       "      <td>5</td>\n",
       "      <td>15</td>\n",
       "      <td>135</td>\n",
       "    </tr>\n",
       "  </tbody>\n",
       "</table>\n",
       "</div>"
      ],
      "text/plain": [
       "              Date  Month  Day  Day of Year\n",
       "2735704 2017-12-18     12   18          352\n",
       "2771883 2017-05-11      5   11          131\n",
       "2777524 2017-03-01      3    1           60\n",
       "2777558 2017-03-28      3   28           87\n",
       "2777651 2017-05-15      5   15          135"
      ]
     },
     "execution_count": 18,
     "metadata": {},
     "output_type": "execute_result"
    }
   ],
   "source": [
    "# create a new_date dataframe, consisting of the date, month, day, and day of the year\n",
    "new_date = pd.concat([date, month, day, day_of_year], axis = 1)\n",
    "new_date.columns = ['Date', 'Month', 'Day', 'Day of Year']\n",
    "new_date.head()"
   ]
  },
  {
   "cell_type": "code",
   "execution_count": 19,
   "metadata": {},
   "outputs": [
    {
     "data": {
      "text/html": [
       "<div>\n",
       "<style scoped>\n",
       "    .dataframe tbody tr th:only-of-type {\n",
       "        vertical-align: middle;\n",
       "    }\n",
       "\n",
       "    .dataframe tbody tr th {\n",
       "        vertical-align: top;\n",
       "    }\n",
       "\n",
       "    .dataframe thead th {\n",
       "        text-align: right;\n",
       "    }\n",
       "</style>\n",
       "<table border=\"1\" class=\"dataframe\">\n",
       "  <thead>\n",
       "    <tr style=\"text-align: right;\">\n",
       "      <th></th>\n",
       "      <th>Ticket number</th>\n",
       "      <th>Issue Date</th>\n",
       "      <th>Issue time</th>\n",
       "      <th>Meter Id</th>\n",
       "      <th>Marked Time</th>\n",
       "      <th>RP State Plate</th>\n",
       "      <th>Plate Expiry Date</th>\n",
       "      <th>VIN</th>\n",
       "      <th>Make</th>\n",
       "      <th>Body Style</th>\n",
       "      <th>...</th>\n",
       "      <th>Route</th>\n",
       "      <th>Agency</th>\n",
       "      <th>Violation code</th>\n",
       "      <th>Violation Description</th>\n",
       "      <th>Fine amount</th>\n",
       "      <th>Latitude</th>\n",
       "      <th>Longitude</th>\n",
       "      <th>Month</th>\n",
       "      <th>Day</th>\n",
       "      <th>Day of Year</th>\n",
       "    </tr>\n",
       "  </thead>\n",
       "  <tbody>\n",
       "    <tr>\n",
       "      <th>2735704</th>\n",
       "      <td>1115377911</td>\n",
       "      <td>2017/12/18 12:00:00 AM</td>\n",
       "      <td>2205.0</td>\n",
       "      <td>NaN</td>\n",
       "      <td>NaN</td>\n",
       "      <td>CA</td>\n",
       "      <td>201712.0</td>\n",
       "      <td>NaN</td>\n",
       "      <td>HOND</td>\n",
       "      <td>PA</td>\n",
       "      <td>...</td>\n",
       "      <td>00192</td>\n",
       "      <td>1.0</td>\n",
       "      <td>4000A1</td>\n",
       "      <td>NO EVIDENCE OF REG</td>\n",
       "      <td>50.0</td>\n",
       "      <td>6.480729e+06</td>\n",
       "      <td>1.836883e+06</td>\n",
       "      <td>12</td>\n",
       "      <td>18</td>\n",
       "      <td>352</td>\n",
       "    </tr>\n",
       "    <tr>\n",
       "      <th>2771883</th>\n",
       "      <td>1114752936</td>\n",
       "      <td>2017/05/11 12:00:00 AM</td>\n",
       "      <td>800.0</td>\n",
       "      <td>NaN</td>\n",
       "      <td>NaN</td>\n",
       "      <td>CA</td>\n",
       "      <td>201712.0</td>\n",
       "      <td>NaN</td>\n",
       "      <td>FRHT</td>\n",
       "      <td>TR</td>\n",
       "      <td>...</td>\n",
       "      <td>CM99</td>\n",
       "      <td>1.0</td>\n",
       "      <td>4000A1</td>\n",
       "      <td>NO EVIDENCE OF REG</td>\n",
       "      <td>50.0</td>\n",
       "      <td>9.999900e+04</td>\n",
       "      <td>9.999900e+04</td>\n",
       "      <td>5</td>\n",
       "      <td>11</td>\n",
       "      <td>131</td>\n",
       "    </tr>\n",
       "    <tr>\n",
       "      <th>2777524</th>\n",
       "      <td>4302749861</td>\n",
       "      <td>2017/03/01 12:00:00 AM</td>\n",
       "      <td>104.0</td>\n",
       "      <td>NaN</td>\n",
       "      <td>NaN</td>\n",
       "      <td>OR</td>\n",
       "      <td>3.0</td>\n",
       "      <td>NaN</td>\n",
       "      <td>TOYT</td>\n",
       "      <td>PA</td>\n",
       "      <td>...</td>\n",
       "      <td>00402</td>\n",
       "      <td>54.0</td>\n",
       "      <td>80.56E4+</td>\n",
       "      <td>RED ZONE</td>\n",
       "      <td>93.0</td>\n",
       "      <td>6.470239e+06</td>\n",
       "      <td>1.860397e+06</td>\n",
       "      <td>3</td>\n",
       "      <td>1</td>\n",
       "      <td>60</td>\n",
       "    </tr>\n",
       "    <tr>\n",
       "      <th>2777558</th>\n",
       "      <td>1120840291</td>\n",
       "      <td>2017/03/28 12:00:00 AM</td>\n",
       "      <td>1050.0</td>\n",
       "      <td>NaN</td>\n",
       "      <td>NaN</td>\n",
       "      <td>CA</td>\n",
       "      <td>201708.0</td>\n",
       "      <td>NaN</td>\n",
       "      <td>HOND</td>\n",
       "      <td>PA</td>\n",
       "      <td>...</td>\n",
       "      <td>00001</td>\n",
       "      <td>1.0</td>\n",
       "      <td>4000A1</td>\n",
       "      <td>NO EVIDENCE OF REG</td>\n",
       "      <td>50.0</td>\n",
       "      <td>9.999900e+04</td>\n",
       "      <td>9.999900e+04</td>\n",
       "      <td>3</td>\n",
       "      <td>28</td>\n",
       "      <td>87</td>\n",
       "    </tr>\n",
       "    <tr>\n",
       "      <th>2777651</th>\n",
       "      <td>4308029526</td>\n",
       "      <td>2017/05/15 12:00:00 AM</td>\n",
       "      <td>134.0</td>\n",
       "      <td>NaN</td>\n",
       "      <td>NaN</td>\n",
       "      <td>CA</td>\n",
       "      <td>NaN</td>\n",
       "      <td>NaN</td>\n",
       "      <td>LEXS</td>\n",
       "      <td>PA</td>\n",
       "      <td>...</td>\n",
       "      <td>00402</td>\n",
       "      <td>54.0</td>\n",
       "      <td>80.69B</td>\n",
       "      <td>NO PARKING</td>\n",
       "      <td>73.0</td>\n",
       "      <td>6.462770e+06</td>\n",
       "      <td>1.859525e+06</td>\n",
       "      <td>5</td>\n",
       "      <td>15</td>\n",
       "      <td>135</td>\n",
       "    </tr>\n",
       "  </tbody>\n",
       "</table>\n",
       "<p>5 rows × 22 columns</p>\n",
       "</div>"
      ],
      "text/plain": [
       "        Ticket number              Issue Date  Issue time Meter Id  \\\n",
       "2735704    1115377911  2017/12/18 12:00:00 AM      2205.0      NaN   \n",
       "2771883    1114752936  2017/05/11 12:00:00 AM       800.0      NaN   \n",
       "2777524    4302749861  2017/03/01 12:00:00 AM       104.0      NaN   \n",
       "2777558    1120840291  2017/03/28 12:00:00 AM      1050.0      NaN   \n",
       "2777651    4308029526  2017/05/15 12:00:00 AM       134.0      NaN   \n",
       "\n",
       "         Marked Time RP State Plate  Plate Expiry Date  VIN  Make Body Style  \\\n",
       "2735704          NaN             CA           201712.0  NaN  HOND         PA   \n",
       "2771883          NaN             CA           201712.0  NaN  FRHT         TR   \n",
       "2777524          NaN             OR                3.0  NaN  TOYT         PA   \n",
       "2777558          NaN             CA           201708.0  NaN  HOND         PA   \n",
       "2777651          NaN             CA                NaN  NaN  LEXS         PA   \n",
       "\n",
       "            ...       Route Agency Violation code  Violation Description  \\\n",
       "2735704     ...       00192    1.0         4000A1     NO EVIDENCE OF REG   \n",
       "2771883     ...        CM99    1.0         4000A1     NO EVIDENCE OF REG   \n",
       "2777524     ...       00402   54.0       80.56E4+               RED ZONE   \n",
       "2777558     ...       00001    1.0         4000A1     NO EVIDENCE OF REG   \n",
       "2777651     ...       00402   54.0         80.69B             NO PARKING   \n",
       "\n",
       "        Fine amount      Latitude     Longitude  Month  Day  Day of Year  \n",
       "2735704        50.0  6.480729e+06  1.836883e+06     12   18          352  \n",
       "2771883        50.0  9.999900e+04  9.999900e+04      5   11          131  \n",
       "2777524        93.0  6.470239e+06  1.860397e+06      3    1           60  \n",
       "2777558        50.0  9.999900e+04  9.999900e+04      3   28           87  \n",
       "2777651        73.0  6.462770e+06  1.859525e+06      5   15          135  \n",
       "\n",
       "[5 rows x 22 columns]"
      ]
     },
     "execution_count": 19,
     "metadata": {},
     "output_type": "execute_result"
    }
   ],
   "source": [
    "# Copy the new_date variables into the original dataframe, la_ticket_2017\n",
    "la_ticket_2017['Month'] = new_date['Month']\n",
    "la_ticket_2017['Day'] = new_date['Day']\n",
    "la_ticket_2017['Day of Year'] = new_date['Day of Year']\n",
    "\n",
    "# view la_ticket_2017 dataframe\n",
    "la_ticket_2017.head()"
   ]
  },
  {
   "cell_type": "markdown",
   "metadata": {},
   "source": [
    "### Remove 'Useless' Variables\n",
    "\n",
    "Now that we've dealt with Issue Date, splitting it into more useful Month, Day, and Day of the Year variables, we can get rid of it using the `drop` operator. While we're at it, let's get rid of these other variables that don't seem very interesting or useful in an exploratory data analysis. "
   ]
  },
  {
   "cell_type": "code",
   "execution_count": 20,
   "metadata": {},
   "outputs": [],
   "source": [
    "# drop variables, create reduced dataframe\n",
    "la_ticket_2017_reduced = la_ticket_2017.drop(['Ticket number', 'Issue Date', 'Marked Time',\n",
    "                                              'Plate Expiry Date', 'VIN', 'Body Style',\n",
    "                                              'Route', 'Agency'],\n",
    "                                             axis=1)"
   ]
  },
  {
   "cell_type": "code",
   "execution_count": 21,
   "metadata": {},
   "outputs": [
    {
     "data": {
      "text/html": [
       "<div>\n",
       "<style scoped>\n",
       "    .dataframe tbody tr th:only-of-type {\n",
       "        vertical-align: middle;\n",
       "    }\n",
       "\n",
       "    .dataframe tbody tr th {\n",
       "        vertical-align: top;\n",
       "    }\n",
       "\n",
       "    .dataframe thead th {\n",
       "        text-align: right;\n",
       "    }\n",
       "</style>\n",
       "<table border=\"1\" class=\"dataframe\">\n",
       "  <thead>\n",
       "    <tr style=\"text-align: right;\">\n",
       "      <th></th>\n",
       "      <th>Issue time</th>\n",
       "      <th>Meter Id</th>\n",
       "      <th>RP State Plate</th>\n",
       "      <th>Make</th>\n",
       "      <th>Color</th>\n",
       "      <th>Location</th>\n",
       "      <th>Violation code</th>\n",
       "      <th>Violation Description</th>\n",
       "      <th>Fine amount</th>\n",
       "      <th>Latitude</th>\n",
       "      <th>Longitude</th>\n",
       "      <th>Month</th>\n",
       "      <th>Day</th>\n",
       "      <th>Day of Year</th>\n",
       "    </tr>\n",
       "  </thead>\n",
       "  <tbody>\n",
       "    <tr>\n",
       "      <th>2735704</th>\n",
       "      <td>2205.0</td>\n",
       "      <td>NaN</td>\n",
       "      <td>CA</td>\n",
       "      <td>HOND</td>\n",
       "      <td>BK</td>\n",
       "      <td>1323 S FLOWER ST</td>\n",
       "      <td>4000A1</td>\n",
       "      <td>NO EVIDENCE OF REG</td>\n",
       "      <td>50.0</td>\n",
       "      <td>6.480729e+06</td>\n",
       "      <td>1.836883e+06</td>\n",
       "      <td>12</td>\n",
       "      <td>18</td>\n",
       "      <td>352</td>\n",
       "    </tr>\n",
       "    <tr>\n",
       "      <th>2771883</th>\n",
       "      <td>800.0</td>\n",
       "      <td>NaN</td>\n",
       "      <td>CA</td>\n",
       "      <td>FRHT</td>\n",
       "      <td>WH</td>\n",
       "      <td>INDIANA/NOAKES</td>\n",
       "      <td>4000A1</td>\n",
       "      <td>NO EVIDENCE OF REG</td>\n",
       "      <td>50.0</td>\n",
       "      <td>9.999900e+04</td>\n",
       "      <td>9.999900e+04</td>\n",
       "      <td>5</td>\n",
       "      <td>11</td>\n",
       "      <td>131</td>\n",
       "    </tr>\n",
       "    <tr>\n",
       "      <th>2777524</th>\n",
       "      <td>104.0</td>\n",
       "      <td>NaN</td>\n",
       "      <td>OR</td>\n",
       "      <td>TOYT</td>\n",
       "      <td>BL</td>\n",
       "      <td>1822 WINONA BLVD</td>\n",
       "      <td>80.56E4+</td>\n",
       "      <td>RED ZONE</td>\n",
       "      <td>93.0</td>\n",
       "      <td>6.470239e+06</td>\n",
       "      <td>1.860397e+06</td>\n",
       "      <td>3</td>\n",
       "      <td>1</td>\n",
       "      <td>60</td>\n",
       "    </tr>\n",
       "    <tr>\n",
       "      <th>2777558</th>\n",
       "      <td>1050.0</td>\n",
       "      <td>NaN</td>\n",
       "      <td>CA</td>\n",
       "      <td>HOND</td>\n",
       "      <td>BK</td>\n",
       "      <td>710 EL CENTRO AV</td>\n",
       "      <td>4000A1</td>\n",
       "      <td>NO EVIDENCE OF REG</td>\n",
       "      <td>50.0</td>\n",
       "      <td>9.999900e+04</td>\n",
       "      <td>9.999900e+04</td>\n",
       "      <td>3</td>\n",
       "      <td>28</td>\n",
       "      <td>87</td>\n",
       "    </tr>\n",
       "    <tr>\n",
       "      <th>2777651</th>\n",
       "      <td>134.0</td>\n",
       "      <td>NaN</td>\n",
       "      <td>CA</td>\n",
       "      <td>LEXS</td>\n",
       "      <td>BL</td>\n",
       "      <td>1701 VINE ST</td>\n",
       "      <td>80.69B</td>\n",
       "      <td>NO PARKING</td>\n",
       "      <td>73.0</td>\n",
       "      <td>6.462770e+06</td>\n",
       "      <td>1.859525e+06</td>\n",
       "      <td>5</td>\n",
       "      <td>15</td>\n",
       "      <td>135</td>\n",
       "    </tr>\n",
       "  </tbody>\n",
       "</table>\n",
       "</div>"
      ],
      "text/plain": [
       "         Issue time Meter Id RP State Plate  Make Color          Location  \\\n",
       "2735704      2205.0      NaN             CA  HOND    BK  1323 S FLOWER ST   \n",
       "2771883       800.0      NaN             CA  FRHT    WH    INDIANA/NOAKES   \n",
       "2777524       104.0      NaN             OR  TOYT    BL  1822 WINONA BLVD   \n",
       "2777558      1050.0      NaN             CA  HOND    BK  710 EL CENTRO AV   \n",
       "2777651       134.0      NaN             CA  LEXS    BL      1701 VINE ST   \n",
       "\n",
       "        Violation code Violation Description  Fine amount      Latitude  \\\n",
       "2735704         4000A1    NO EVIDENCE OF REG         50.0  6.480729e+06   \n",
       "2771883         4000A1    NO EVIDENCE OF REG         50.0  9.999900e+04   \n",
       "2777524       80.56E4+              RED ZONE         93.0  6.470239e+06   \n",
       "2777558         4000A1    NO EVIDENCE OF REG         50.0  9.999900e+04   \n",
       "2777651         80.69B            NO PARKING         73.0  6.462770e+06   \n",
       "\n",
       "            Longitude  Month  Day  Day of Year  \n",
       "2735704  1.836883e+06     12   18          352  \n",
       "2771883  9.999900e+04      5   11          131  \n",
       "2777524  1.860397e+06      3    1           60  \n",
       "2777558  9.999900e+04      3   28           87  \n",
       "2777651  1.859525e+06      5   15          135  "
      ]
     },
     "execution_count": 21,
     "metadata": {},
     "output_type": "execute_result"
    }
   ],
   "source": [
    "# view reduced dataframe\n",
    "la_ticket_2017_reduced.head()"
   ]
  },
  {
   "cell_type": "markdown",
   "metadata": {},
   "source": [
    "### Explore Variables\n",
    "\n",
    "We've trimmed the scale and scope of the data, accomplishing exactly what we set out to do in the beginning of this post. Now let's have a peak at the variables, so we can start to think of the challenges to come!"
   ]
  },
  {
   "cell_type": "code",
   "execution_count": 22,
   "metadata": {},
   "outputs": [
    {
     "data": {
      "text/plain": [
       "array(['CA', 'OR', 'CO', 'TX', 'WA', 'ID', 'TN', 'FL', 'NV', 'MD', 'AZ',\n",
       "       'SD', 'CT', 'VA', 'US', 'GA', 'IL', 'UT', 'MA', 'MO', 'WI', 'MI',\n",
       "       'NE', 'PA', 'ND', 'OH', 'NM', 'NY', 'IN', 'LA', 'SC', 'NC', 'NJ',\n",
       "       'MN', 'AL', 'AB', 'KS', 'OK', 'KY', 'QU', 'AR', 'MT', 'IA', 'HI',\n",
       "       'CN', 'DC', 'VI', 'MS', 'WV', 'NH', 'XX', 'WY', 'AK', 'MX', 'RI',\n",
       "       'ON', 'BC', 'VT', 'DE', 'ME', 'SA', 'FN', 'NW', 'NF', 'CZ', 'NB',\n",
       "       'MB', 'AS', 'NS', 'PE', 'TT', 'GU', 'PR', 'ML'], dtype=object)"
      ]
     },
     "execution_count": 22,
     "metadata": {},
     "output_type": "execute_result"
    }
   ],
   "source": [
    "# unique plates\n",
    "pd.unique(la_ticket_2017_reduced['RP State Plate'])"
   ]
  },
  {
   "cell_type": "code",
   "execution_count": 23,
   "metadata": {},
   "outputs": [
    {
     "data": {
      "text/plain": [
       "74"
      ]
     },
     "execution_count": 23,
     "metadata": {},
     "output_type": "execute_result"
    }
   ],
   "source": [
    "# see if we have 50 entries for the 50 states\n",
    "len(pd.unique(la_ticket_2017_reduced['RP State Plate']))"
   ]
  },
  {
   "cell_type": "markdown",
   "metadata": {},
   "source": [
    "There are 74 unique license plates recorded! It appears that we have the predicted state license plates, like 'CA' and 'CO', but there are also less predictable plates like 'BC' (British Columbia) and 'ON' (Ontario). Let's use the same method to look into how many different car manufacturers are represented, and how many colors are recorded in the citation data. "
   ]
  },
  {
   "cell_type": "code",
   "execution_count": 24,
   "metadata": {},
   "outputs": [
    {
     "data": {
      "text/plain": [
       "1121"
      ]
     },
     "execution_count": 24,
     "metadata": {},
     "output_type": "execute_result"
    }
   ],
   "source": [
    "# how many different makers?\n",
    "len(pd.unique(la_ticket_2017_reduced['Make']))"
   ]
  },
  {
   "cell_type": "code",
   "execution_count": 25,
   "metadata": {},
   "outputs": [
    {
     "data": {
      "text/plain": [
       "array(['BK', 'WH', 'BL', 'GY', 'BR', 'TA', nan, 'WT', 'RD', 'GO', 'MR',\n",
       "       'SL', 'BN', 'GN', 'PR', 'TN', 'YE', 'OT', 'OR', 'BG', 'RE', 'SI',\n",
       "       'GR', 'BU', 'MA', 'PU', 'CR', 'MY', 'TU', 'BE', 'TE', 'GD', 'MU',\n",
       "       'CH', 'YL', 'RU', 'CO', 'PK', 'UN', 'WI', 'BZ', 'PI', 'WE', 'OL',\n",
       "       'AQ', 'AU', 'WR', 'WA', 'AM', 'GL', 'PE', 'RA', 'BI', 'BA', 'ES',\n",
       "       'SU', 'PP', 'BW', 'GE', 'VA', 'PL', 'LE', 'CA', 'W', 'ME', 'SV',\n",
       "       'BH', 'SA', 'AP', 'VO', 'VU', 'TL'], dtype=object)"
      ]
     },
     "execution_count": 25,
     "metadata": {},
     "output_type": "execute_result"
    }
   ],
   "source": [
    "# unique car colors\n",
    "pd.unique(la_ticket_2017_reduced['Color'])"
   ]
  },
  {
   "cell_type": "markdown",
   "metadata": {},
   "source": [
    "1121 different car manufacturers is a bit obsurd. To work with that variable, we'll have to work it down to the top 50 or so manufacturers. There appears to be a lot of repeats in car color as well. For example, White is recorded as 'WH', 'WI', 'WT', 'WE', and W'. \n",
    "\n",
    "\n",
    "How many unique violation codes are present, and do they correspond 1:1 with the Violation Description variable?"
   ]
  },
  {
   "cell_type": "code",
   "execution_count": 26,
   "metadata": {},
   "outputs": [
    {
     "data": {
      "text/plain": [
       "231"
      ]
     },
     "execution_count": 26,
     "metadata": {},
     "output_type": "execute_result"
    }
   ],
   "source": [
    "len(pd.unique(la_ticket_2017_reduced['Violation code']))"
   ]
  },
  {
   "cell_type": "code",
   "execution_count": 27,
   "metadata": {},
   "outputs": [
    {
     "data": {
      "text/plain": [
       "400"
      ]
     },
     "execution_count": 27,
     "metadata": {},
     "output_type": "execute_result"
    }
   ],
   "source": [
    "len(pd.unique(la_ticket_2017_reduced['Violation Description']))"
   ]
  },
  {
   "cell_type": "markdown",
   "metadata": {},
   "source": [
    "What percent of the citation data includes an expired meter?"
   ]
  },
  {
   "cell_type": "code",
   "execution_count": 28,
   "metadata": {},
   "outputs": [
    {
     "data": {
      "text/plain": [
       "0.22996510269796466"
      ]
     },
     "execution_count": 28,
     "metadata": {},
     "output_type": "execute_result"
    }
   ],
   "source": [
    "sum(la_ticket_2017_reduced['Meter Id'].str.contains('N') == False) / len(la_ticket_2017_reduced)\n",
    "#/ len(la_ticket_2017_reduced)"
   ]
  },
  {
   "cell_type": "markdown",
   "metadata": {},
   "source": [
    "### Write Reduced 2017 Dataset\n",
    "\n",
    "Now that we've had a look at the variables, let's finish up this part of the project by splitting the data into smaller, easily saved pieces. Remember that files need to be < 100 mb to be saved on Github without issue. "
   ]
  },
  {
   "cell_type": "code",
   "execution_count": 29,
   "metadata": {},
   "outputs": [],
   "source": [
    "# write full reduced dataframe\n",
    "la_ticket_2017_reduced.to_csv('input/la_ticket_2017.csv')"
   ]
  },
  {
   "cell_type": "code",
   "execution_count": 30,
   "metadata": {},
   "outputs": [
    {
     "data": {
      "text/plain": [
       "0.25989506"
      ]
     },
     "execution_count": 30,
     "metadata": {},
     "output_type": "execute_result"
    }
   ],
   "source": [
    "# check size again\n",
    "os.path.getsize('input/la_ticket_2017.csv') / (1*10**9)\n",
    "# still too big, must be < 100 mb"
   ]
  },
  {
   "cell_type": "code",
   "execution_count": 31,
   "metadata": {},
   "outputs": [],
   "source": [
    "# create 4 sequences of 3 months for indexing the reduced dataset\n",
    "seq_1 = ['01','02','03']\n",
    "seq_2 = ['04','05','06']\n",
    "seq_3 = ['07','08','09']\n",
    "seq_4 = ['10','11','12']"
   ]
  },
  {
   "cell_type": "code",
   "execution_count": 32,
   "metadata": {},
   "outputs": [],
   "source": [
    "# create the index\n",
    "index_1 = la_ticket_2017_reduced['Month'].isin(seq_1)\n",
    "index_2 = la_ticket_2017_reduced['Month'].isin(seq_2)\n",
    "index_3 = la_ticket_2017_reduced['Month'].isin(seq_3)\n",
    "index_4 = la_ticket_2017_reduced['Month'].isin(seq_4)"
   ]
  },
  {
   "cell_type": "code",
   "execution_count": 33,
   "metadata": {},
   "outputs": [],
   "source": [
    "# apply index to separate dataset into 4 pieces\n",
    "la_ticket_2017_1 = la_ticket_2017_reduced[index_1]\n",
    "la_ticket_2017_2 = la_ticket_2017_reduced[index_2]\n",
    "la_ticket_2017_3 = la_ticket_2017_reduced[index_3]\n",
    "la_ticket_2017_4 = la_ticket_2017_reduced[index_4]"
   ]
  },
  {
   "cell_type": "code",
   "execution_count": 34,
   "metadata": {},
   "outputs": [],
   "source": [
    "# save the four pieces\n",
    "la_ticket_2017_1.to_csv('la_ticket_2017_1.csv')\n",
    "la_ticket_2017_2.to_csv('la_ticket_2017_2.csv')\n",
    "la_ticket_2017_3.to_csv('la_ticket_2017_3.csv')\n",
    "la_ticket_2017_4.to_csv('la_ticket_2017_4.csv')"
   ]
  },
  {
   "cell_type": "code",
   "execution_count": 35,
   "metadata": {},
   "outputs": [
    {
     "data": {
      "text/plain": [
       "0.064369593"
      ]
     },
     "execution_count": 35,
     "metadata": {},
     "output_type": "execute_result"
    }
   ],
   "source": [
    "# check size of the jan-mar piece\n",
    "os.path.getsize('la_ticket_2017_1.csv') / (1*10**9)"
   ]
  },
  {
   "cell_type": "code",
   "execution_count": 36,
   "metadata": {},
   "outputs": [
    {
     "data": {
      "text/plain": [
       "0.068027456"
      ]
     },
     "execution_count": 36,
     "metadata": {},
     "output_type": "execute_result"
    }
   ],
   "source": [
    "# check size of the second piece\n",
    "os.path.getsize('la_ticket_2017_2.csv') / (1*10**9)"
   ]
  },
  {
   "cell_type": "code",
   "execution_count": 37,
   "metadata": {},
   "outputs": [
    {
     "data": {
      "text/plain": [
       "0.065431994"
      ]
     },
     "execution_count": 37,
     "metadata": {},
     "output_type": "execute_result"
    }
   ],
   "source": [
    "# check size of the third piece\n",
    "os.path.getsize('la_ticket_2017_3.csv') / (1*10**9)"
   ]
  },
  {
   "cell_type": "code",
   "execution_count": 38,
   "metadata": {},
   "outputs": [
    {
     "data": {
      "text/plain": [
       "0.062066455"
      ]
     },
     "execution_count": 38,
     "metadata": {},
     "output_type": "execute_result"
    }
   ],
   "source": [
    "# check size of the final piece\n",
    "os.path.getsize('la_ticket_2017_4.csv') / (1*10**9)"
   ]
  },
  {
   "cell_type": "markdown",
   "metadata": {},
   "source": [
    "And that's it!\n",
    "\n",
    "To summarize, we've loaded a dataset, reduced its range, altered its variables, and explored the remaining variables. We finished by dividing the dataset into 4 parts of roughly equal size, in order to easily download and upload them. \n",
    "\n",
    "In part two of this EDA, we'll work with the newly time variables, visualizing how many citations are given and when. Later we'll do geospatial work, and categorical analysis. It should be fun!\n",
    "\n",
    "\n",
    "Until next time,\\n\n",
    "\n",
    "\\- Fisher"
   ]
  }
 ],
 "metadata": {
  "kernelspec": {
   "display_name": "Python 3",
   "language": "python",
   "name": "python3"
  },
  "language_info": {
   "codemirror_mode": {
    "name": "ipython",
    "version": 3
   },
   "file_extension": ".py",
   "mimetype": "text/x-python",
   "name": "python",
   "nbconvert_exporter": "python",
   "pygments_lexer": "ipython3",
   "version": "3.6.6"
  }
 },
 "nbformat": 4,
 "nbformat_minor": 2
}
