{
 "cells": [
  {
   "cell_type": "markdown",
   "metadata": {},
   "source": [
    "## LA Parking Citation Exploratory Data Analysis"
   ]
  },
  {
   "cell_type": "markdown",
   "metadata": {},
   "source": [
    "#### Fisher Ankney\n",
    "#### October 27th, 2018\n",
    "\n",
    "<br> \n",
    "\n",
    "data avaliable on Kaggle or https://data.lacity.org/\n",
    "\n",
    "This goal of this notebook is to trim the dataset from 7.2 million lines, to a more manageable size, specifically one that can be stored on github (< 100 mb files)"
   ]
  },
  {
   "cell_type": "markdown",
   "metadata": {},
   "source": [
    "### Load Libraries"
   ]
  },
  {
   "cell_type": "code",
   "execution_count": 43,
   "metadata": {},
   "outputs": [],
   "source": [
    "import numpy as np\n",
    "import pandas as pd\n",
    "import matplotlib.pyplot as plt\n",
    "import warnings"
   ]
  },
  {
   "cell_type": "markdown",
   "metadata": {},
   "source": [
    "### Verify File Size"
   ]
  },
  {
   "cell_type": "code",
   "execution_count": 2,
   "metadata": {},
   "outputs": [
    {
     "data": {
      "text/plain": [
       "1.021944555"
      ]
     },
     "execution_count": 2,
     "metadata": {},
     "output_type": "execute_result"
    }
   ],
   "source": [
    "# return file size in GB\n",
    "import os\n",
    "os.path.getsize('parking_citation.csv') / (1*10**9)"
   ]
  },
  {
   "cell_type": "markdown",
   "metadata": {},
   "source": [
    "### Read in the Dataset"
   ]
  },
  {
   "cell_type": "code",
   "execution_count": 3,
   "metadata": {},
   "outputs": [
    {
     "name": "stderr",
     "output_type": "stream",
     "text": [
      "/Applications/anaconda3/lib/python3.6/site-packages/IPython/core/interactiveshell.py:2785: DtypeWarning: Columns (0) have mixed types. Specify dtype option on import or set low_memory=False.\n",
      "  interactivity=interactivity, compiler=compiler, result=result)\n"
     ]
    }
   ],
   "source": [
    "la_ticket_full = pd.read_csv(\"~/Documents/data_science/py_la_tickets/parking_citation.csv\")"
   ]
  },
  {
   "cell_type": "code",
   "execution_count": 4,
   "metadata": {},
   "outputs": [
    {
     "data": {
      "text/html": [
       "<div>\n",
       "<style scoped>\n",
       "    .dataframe tbody tr th:only-of-type {\n",
       "        vertical-align: middle;\n",
       "    }\n",
       "\n",
       "    .dataframe tbody tr th {\n",
       "        vertical-align: top;\n",
       "    }\n",
       "\n",
       "    .dataframe thead th {\n",
       "        text-align: right;\n",
       "    }\n",
       "</style>\n",
       "<table border=\"1\" class=\"dataframe\">\n",
       "  <thead>\n",
       "    <tr style=\"text-align: right;\">\n",
       "      <th></th>\n",
       "      <th>Ticket number</th>\n",
       "      <th>Issue Date</th>\n",
       "      <th>Issue time</th>\n",
       "      <th>Meter Id</th>\n",
       "      <th>Marked Time</th>\n",
       "      <th>RP State Plate</th>\n",
       "      <th>Plate Expiry Date</th>\n",
       "      <th>VIN</th>\n",
       "      <th>Make</th>\n",
       "      <th>Body Style</th>\n",
       "      <th>Color</th>\n",
       "      <th>Location</th>\n",
       "      <th>Route</th>\n",
       "      <th>Agency</th>\n",
       "      <th>Violation code</th>\n",
       "      <th>Violation Description</th>\n",
       "      <th>Fine amount</th>\n",
       "      <th>Latitude</th>\n",
       "      <th>Longitude</th>\n",
       "    </tr>\n",
       "  </thead>\n",
       "  <tbody>\n",
       "    <tr>\n",
       "      <th>7201001</th>\n",
       "      <td>4334262026</td>\n",
       "      <td>2018/05/29 12:00:00 AM</td>\n",
       "      <td>2321.0</td>\n",
       "      <td>NaN</td>\n",
       "      <td>NaN</td>\n",
       "      <td>CA</td>\n",
       "      <td>200608.0</td>\n",
       "      <td>NaN</td>\n",
       "      <td>HOND</td>\n",
       "      <td>PA</td>\n",
       "      <td>GY</td>\n",
       "      <td>9400 HAAS AVE</td>\n",
       "      <td>00531</td>\n",
       "      <td>55.0</td>\n",
       "      <td>80.56E4+</td>\n",
       "      <td>RED ZONE</td>\n",
       "      <td>93.0</td>\n",
       "      <td>6.465617e+06</td>\n",
       "      <td>1.804786e+06</td>\n",
       "    </tr>\n",
       "    <tr>\n",
       "      <th>7201002</th>\n",
       "      <td>4334262030</td>\n",
       "      <td>2018/05/29 12:00:00 AM</td>\n",
       "      <td>2322.0</td>\n",
       "      <td>NaN</td>\n",
       "      <td>NaN</td>\n",
       "      <td>CA</td>\n",
       "      <td>200608.0</td>\n",
       "      <td>NaN</td>\n",
       "      <td>HOND</td>\n",
       "      <td>PA</td>\n",
       "      <td>GY</td>\n",
       "      <td>9400 HAAS AVE</td>\n",
       "      <td>00531</td>\n",
       "      <td>55.0</td>\n",
       "      <td>5204A-</td>\n",
       "      <td>DISPLAY OF TABS</td>\n",
       "      <td>25.0</td>\n",
       "      <td>6.465617e+06</td>\n",
       "      <td>1.804786e+06</td>\n",
       "    </tr>\n",
       "    <tr>\n",
       "      <th>7201003</th>\n",
       "      <td>4334262041</td>\n",
       "      <td>2018/05/29 12:00:00 AM</td>\n",
       "      <td>2338.0</td>\n",
       "      <td>NaN</td>\n",
       "      <td>NaN</td>\n",
       "      <td>CA</td>\n",
       "      <td>201811.0</td>\n",
       "      <td>NaN</td>\n",
       "      <td>BMW</td>\n",
       "      <td>PA</td>\n",
       "      <td>GY</td>\n",
       "      <td>7500 BUDLONG AVE</td>\n",
       "      <td>00531</td>\n",
       "      <td>55.0</td>\n",
       "      <td>80.56E4+</td>\n",
       "      <td>RED ZONE</td>\n",
       "      <td>93.0</td>\n",
       "      <td>6.471860e+06</td>\n",
       "      <td>1.812272e+06</td>\n",
       "    </tr>\n",
       "    <tr>\n",
       "      <th>7201004</th>\n",
       "      <td>4334262052</td>\n",
       "      <td>2018/05/29 12:00:00 AM</td>\n",
       "      <td>2341.0</td>\n",
       "      <td>NaN</td>\n",
       "      <td>NaN</td>\n",
       "      <td>CA</td>\n",
       "      <td>201809.0</td>\n",
       "      <td>NaN</td>\n",
       "      <td>CHEV</td>\n",
       "      <td>PA</td>\n",
       "      <td>GY</td>\n",
       "      <td>944 76TH ST W</td>\n",
       "      <td>00531</td>\n",
       "      <td>55.0</td>\n",
       "      <td>22514</td>\n",
       "      <td>FIRE HYDRANT</td>\n",
       "      <td>68.0</td>\n",
       "      <td>6.473632e+06</td>\n",
       "      <td>1.811856e+06</td>\n",
       "    </tr>\n",
       "    <tr>\n",
       "      <th>7201005</th>\n",
       "      <td>4334262063</td>\n",
       "      <td>2018/05/29 12:00:00 AM</td>\n",
       "      <td>2348.0</td>\n",
       "      <td>NaN</td>\n",
       "      <td>NaN</td>\n",
       "      <td>CA</td>\n",
       "      <td>201810.0</td>\n",
       "      <td>NaN</td>\n",
       "      <td>HOND</td>\n",
       "      <td>PA</td>\n",
       "      <td>GY</td>\n",
       "      <td>618 76TH ST W</td>\n",
       "      <td>00531</td>\n",
       "      <td>55.0</td>\n",
       "      <td>22500E</td>\n",
       "      <td>BLOCKING DRIVEWAY</td>\n",
       "      <td>68.0</td>\n",
       "      <td>6.475427e+06</td>\n",
       "      <td>1.811860e+06</td>\n",
       "    </tr>\n",
       "  </tbody>\n",
       "</table>\n",
       "</div>"
      ],
      "text/plain": [
       "        Ticket number              Issue Date  Issue time Meter Id  \\\n",
       "7201001    4334262026  2018/05/29 12:00:00 AM      2321.0      NaN   \n",
       "7201002    4334262030  2018/05/29 12:00:00 AM      2322.0      NaN   \n",
       "7201003    4334262041  2018/05/29 12:00:00 AM      2338.0      NaN   \n",
       "7201004    4334262052  2018/05/29 12:00:00 AM      2341.0      NaN   \n",
       "7201005    4334262063  2018/05/29 12:00:00 AM      2348.0      NaN   \n",
       "\n",
       "         Marked Time RP State Plate  Plate Expiry Date  VIN  Make Body Style  \\\n",
       "7201001          NaN             CA           200608.0  NaN  HOND         PA   \n",
       "7201002          NaN             CA           200608.0  NaN  HOND         PA   \n",
       "7201003          NaN             CA           201811.0  NaN   BMW         PA   \n",
       "7201004          NaN             CA           201809.0  NaN  CHEV         PA   \n",
       "7201005          NaN             CA           201810.0  NaN  HOND         PA   \n",
       "\n",
       "        Color          Location  Route  Agency Violation code  \\\n",
       "7201001    GY     9400 HAAS AVE  00531    55.0       80.56E4+   \n",
       "7201002    GY     9400 HAAS AVE  00531    55.0         5204A-   \n",
       "7201003    GY  7500 BUDLONG AVE  00531    55.0       80.56E4+   \n",
       "7201004    GY     944 76TH ST W  00531    55.0          22514   \n",
       "7201005    GY     618 76TH ST W  00531    55.0         22500E   \n",
       "\n",
       "        Violation Description  Fine amount      Latitude     Longitude  \n",
       "7201001              RED ZONE         93.0  6.465617e+06  1.804786e+06  \n",
       "7201002       DISPLAY OF TABS         25.0  6.465617e+06  1.804786e+06  \n",
       "7201003              RED ZONE         93.0  6.471860e+06  1.812272e+06  \n",
       "7201004          FIRE HYDRANT         68.0  6.473632e+06  1.811856e+06  \n",
       "7201005     BLOCKING DRIVEWAY         68.0  6.475427e+06  1.811860e+06  "
      ]
     },
     "execution_count": 4,
     "metadata": {},
     "output_type": "execute_result"
    }
   ],
   "source": [
    "la_ticket_full.tail()"
   ]
  },
  {
   "cell_type": "markdown",
   "metadata": {},
   "source": [
    "### Index Dataset for 2017 Results Only"
   ]
  },
  {
   "cell_type": "code",
   "execution_count": 5,
   "metadata": {},
   "outputs": [
    {
     "data": {
      "text/plain": [
       "7201001    2018/05/29 12:00:00 AM\n",
       "7201002    2018/05/29 12:00:00 AM\n",
       "7201003    2018/05/29 12:00:00 AM\n",
       "7201004    2018/05/29 12:00:00 AM\n",
       "7201005    2018/05/29 12:00:00 AM\n",
       "Name: Issue Date, dtype: object"
      ]
     },
     "execution_count": 5,
     "metadata": {},
     "output_type": "execute_result"
    }
   ],
   "source": [
    "la_ticket_issue = la_ticket_full['Issue Date']\n",
    "la_ticket_issue.tail()"
   ]
  },
  {
   "cell_type": "code",
   "execution_count": 6,
   "metadata": {},
   "outputs": [
    {
     "data": {
      "text/plain": [
       "pandas.core.series.Series"
      ]
     },
     "execution_count": 6,
     "metadata": {},
     "output_type": "execute_result"
    }
   ],
   "source": [
    "type(la_ticket_issue)"
   ]
  },
  {
   "cell_type": "code",
   "execution_count": 14,
   "metadata": {},
   "outputs": [
    {
     "data": {
      "text/plain": [
       "2254329"
      ]
     },
     "execution_count": 14,
     "metadata": {},
     "output_type": "execute_result"
    }
   ],
   "source": [
    "sum(la_ticket_issue.str.contains('2017') == True)"
   ]
  },
  {
   "cell_type": "code",
   "execution_count": 15,
   "metadata": {},
   "outputs": [],
   "source": [
    "la_ticket_2017_index = la_ticket_issue.str.contains('2017')"
   ]
  },
  {
   "cell_type": "code",
   "execution_count": 33,
   "metadata": {},
   "outputs": [],
   "source": [
    "la_ticket_2017 = la_ticket_full[la_ticket_2017_index]"
   ]
  },
  {
   "cell_type": "code",
   "execution_count": 17,
   "metadata": {},
   "outputs": [
    {
     "data": {
      "text/plain": [
       "2254329"
      ]
     },
     "execution_count": 17,
     "metadata": {},
     "output_type": "execute_result"
    }
   ],
   "source": [
    "len(la_ticket_2017)"
   ]
  },
  {
   "cell_type": "markdown",
   "metadata": {},
   "source": [
    "#### Confirm Dataset Retains Essential Variables and spans 2017"
   ]
  },
  {
   "cell_type": "code",
   "execution_count": 18,
   "metadata": {},
   "outputs": [
    {
     "data": {
      "text/html": [
       "<div>\n",
       "<style scoped>\n",
       "    .dataframe tbody tr th:only-of-type {\n",
       "        vertical-align: middle;\n",
       "    }\n",
       "\n",
       "    .dataframe tbody tr th {\n",
       "        vertical-align: top;\n",
       "    }\n",
       "\n",
       "    .dataframe thead th {\n",
       "        text-align: right;\n",
       "    }\n",
       "</style>\n",
       "<table border=\"1\" class=\"dataframe\">\n",
       "  <thead>\n",
       "    <tr style=\"text-align: right;\">\n",
       "      <th></th>\n",
       "      <th>Ticket number</th>\n",
       "      <th>Issue Date</th>\n",
       "      <th>Issue time</th>\n",
       "      <th>Meter Id</th>\n",
       "      <th>Marked Time</th>\n",
       "      <th>RP State Plate</th>\n",
       "      <th>Plate Expiry Date</th>\n",
       "      <th>VIN</th>\n",
       "      <th>Make</th>\n",
       "      <th>Body Style</th>\n",
       "      <th>Color</th>\n",
       "      <th>Location</th>\n",
       "      <th>Route</th>\n",
       "      <th>Agency</th>\n",
       "      <th>Violation code</th>\n",
       "      <th>Violation Description</th>\n",
       "      <th>Fine amount</th>\n",
       "      <th>Latitude</th>\n",
       "      <th>Longitude</th>\n",
       "    </tr>\n",
       "  </thead>\n",
       "  <tbody>\n",
       "    <tr>\n",
       "      <th>7094534</th>\n",
       "      <td>1116259045</td>\n",
       "      <td>2017/04/17 12:00:00 AM</td>\n",
       "      <td>2008.0</td>\n",
       "      <td>NaN</td>\n",
       "      <td>NaN</td>\n",
       "      <td>NV</td>\n",
       "      <td>201812.0</td>\n",
       "      <td>NaN</td>\n",
       "      <td>CHRY</td>\n",
       "      <td>PA</td>\n",
       "      <td>GY</td>\n",
       "      <td>2800 EAST OBSERVATOR</td>\n",
       "      <td>NaN</td>\n",
       "      <td>4.0</td>\n",
       "      <td>8056E4</td>\n",
       "      <td>RED ZONE</td>\n",
       "      <td>93.0</td>\n",
       "      <td>9.999900e+04</td>\n",
       "      <td>9.999900e+04</td>\n",
       "    </tr>\n",
       "    <tr>\n",
       "      <th>7133441</th>\n",
       "      <td>1116014793</td>\n",
       "      <td>2017/11/05 12:00:00 AM</td>\n",
       "      <td>150.0</td>\n",
       "      <td>NaN</td>\n",
       "      <td>NaN</td>\n",
       "      <td>CA</td>\n",
       "      <td>201709.0</td>\n",
       "      <td>NaN</td>\n",
       "      <td>ACUR</td>\n",
       "      <td>PA</td>\n",
       "      <td>GY</td>\n",
       "      <td>BURNS E/O VIRGIL</td>\n",
       "      <td>NaN</td>\n",
       "      <td>1.0</td>\n",
       "      <td>4000A1</td>\n",
       "      <td>NO EVIDENCE OF REG</td>\n",
       "      <td>50.0</td>\n",
       "      <td>9.999900e+04</td>\n",
       "      <td>9.999900e+04</td>\n",
       "    </tr>\n",
       "    <tr>\n",
       "      <th>7171053</th>\n",
       "      <td>1114199203</td>\n",
       "      <td>2017/10/15 12:00:00 AM</td>\n",
       "      <td>1637.0</td>\n",
       "      <td>NaN</td>\n",
       "      <td>NaN</td>\n",
       "      <td>CA</td>\n",
       "      <td>201801.0</td>\n",
       "      <td>NaN</td>\n",
       "      <td>HOND</td>\n",
       "      <td>PA</td>\n",
       "      <td>BK</td>\n",
       "      <td>2167 E 102ND ST</td>\n",
       "      <td>01829</td>\n",
       "      <td>1.0</td>\n",
       "      <td>80714</td>\n",
       "      <td>PRIVATE PROPERTY</td>\n",
       "      <td>68.0</td>\n",
       "      <td>6.490781e+06</td>\n",
       "      <td>1.802058e+06</td>\n",
       "    </tr>\n",
       "    <tr>\n",
       "      <th>7171388</th>\n",
       "      <td>1121068082</td>\n",
       "      <td>2017/04/16 12:00:00 AM</td>\n",
       "      <td>735.0</td>\n",
       "      <td>NaN</td>\n",
       "      <td>NaN</td>\n",
       "      <td>CA</td>\n",
       "      <td>201706.0</td>\n",
       "      <td>NaN</td>\n",
       "      <td>CHEV</td>\n",
       "      <td>PA</td>\n",
       "      <td>BL</td>\n",
       "      <td>6701 DE SOTO AVE</td>\n",
       "      <td>MQ</td>\n",
       "      <td>1.0</td>\n",
       "      <td>4000A1</td>\n",
       "      <td>NO EVIDENCE OF REG</td>\n",
       "      <td>50.0</td>\n",
       "      <td>9.999900e+04</td>\n",
       "      <td>9.999900e+04</td>\n",
       "    </tr>\n",
       "    <tr>\n",
       "      <th>7171390</th>\n",
       "      <td>1122798622</td>\n",
       "      <td>2017/03/05 12:00:00 AM</td>\n",
       "      <td>1635.0</td>\n",
       "      <td>NaN</td>\n",
       "      <td>NaN</td>\n",
       "      <td>CA</td>\n",
       "      <td>201805.0</td>\n",
       "      <td>NaN</td>\n",
       "      <td>TOYO</td>\n",
       "      <td>PA</td>\n",
       "      <td>GY</td>\n",
       "      <td>101 WORLD WAY</td>\n",
       "      <td>5M38</td>\n",
       "      <td>2.0</td>\n",
       "      <td>225078A</td>\n",
       "      <td>HANDICAP/NO DP ID</td>\n",
       "      <td>363.0</td>\n",
       "      <td>6.439738e+06</td>\n",
       "      <td>1.802687e+06</td>\n",
       "    </tr>\n",
       "  </tbody>\n",
       "</table>\n",
       "</div>"
      ],
      "text/plain": [
       "        Ticket number              Issue Date  Issue time Meter Id  \\\n",
       "7094534    1116259045  2017/04/17 12:00:00 AM      2008.0      NaN   \n",
       "7133441    1116014793  2017/11/05 12:00:00 AM       150.0      NaN   \n",
       "7171053    1114199203  2017/10/15 12:00:00 AM      1637.0      NaN   \n",
       "7171388    1121068082  2017/04/16 12:00:00 AM       735.0      NaN   \n",
       "7171390    1122798622  2017/03/05 12:00:00 AM      1635.0      NaN   \n",
       "\n",
       "         Marked Time RP State Plate  Plate Expiry Date  VIN  Make Body Style  \\\n",
       "7094534          NaN             NV           201812.0  NaN  CHRY         PA   \n",
       "7133441          NaN             CA           201709.0  NaN  ACUR         PA   \n",
       "7171053          NaN             CA           201801.0  NaN  HOND         PA   \n",
       "7171388          NaN             CA           201706.0  NaN  CHEV         PA   \n",
       "7171390          NaN             CA           201805.0  NaN  TOYO         PA   \n",
       "\n",
       "        Color              Location  Route  Agency Violation code  \\\n",
       "7094534    GY  2800 EAST OBSERVATOR    NaN     4.0         8056E4   \n",
       "7133441    GY      BURNS E/O VIRGIL    NaN     1.0         4000A1   \n",
       "7171053    BK       2167 E 102ND ST  01829     1.0          80714   \n",
       "7171388    BL      6701 DE SOTO AVE     MQ     1.0         4000A1   \n",
       "7171390    GY         101 WORLD WAY   5M38     2.0        225078A   \n",
       "\n",
       "        Violation Description  Fine amount      Latitude     Longitude  \n",
       "7094534              RED ZONE         93.0  9.999900e+04  9.999900e+04  \n",
       "7133441    NO EVIDENCE OF REG         50.0  9.999900e+04  9.999900e+04  \n",
       "7171053      PRIVATE PROPERTY         68.0  6.490781e+06  1.802058e+06  \n",
       "7171388    NO EVIDENCE OF REG         50.0  9.999900e+04  9.999900e+04  \n",
       "7171390     HANDICAP/NO DP ID        363.0  6.439738e+06  1.802687e+06  "
      ]
     },
     "execution_count": 18,
     "metadata": {},
     "output_type": "execute_result"
    }
   ],
   "source": [
    "la_ticket_2017.tail()"
   ]
  },
  {
   "cell_type": "code",
   "execution_count": 19,
   "metadata": {},
   "outputs": [
    {
     "data": {
      "text/plain": [
       "'2017/01/01 12:00:00 AM'"
      ]
     },
     "execution_count": 19,
     "metadata": {},
     "output_type": "execute_result"
    }
   ],
   "source": [
    "min(la_ticket_2017['Issue Date'])"
   ]
  },
  {
   "cell_type": "code",
   "execution_count": 20,
   "metadata": {},
   "outputs": [
    {
     "data": {
      "text/plain": [
       "'2017/12/31 12:00:00 AM'"
      ]
     },
     "execution_count": 20,
     "metadata": {},
     "output_type": "execute_result"
    }
   ],
   "source": [
    "max(la_ticket_2017['Issue Date'])"
   ]
  },
  {
   "cell_type": "markdown",
   "metadata": {},
   "source": [
    "### Split Issue Date into Month / Day"
   ]
  },
  {
   "cell_type": "code",
   "execution_count": 40,
   "metadata": {},
   "outputs": [
    {
     "data": {
      "text/html": [
       "<div>\n",
       "<style scoped>\n",
       "    .dataframe tbody tr th:only-of-type {\n",
       "        vertical-align: middle;\n",
       "    }\n",
       "\n",
       "    .dataframe tbody tr th {\n",
       "        vertical-align: top;\n",
       "    }\n",
       "\n",
       "    .dataframe thead th {\n",
       "        text-align: right;\n",
       "    }\n",
       "</style>\n",
       "<table border=\"1\" class=\"dataframe\">\n",
       "  <thead>\n",
       "    <tr style=\"text-align: right;\">\n",
       "      <th></th>\n",
       "      <th>0</th>\n",
       "      <th>1</th>\n",
       "      <th>2</th>\n",
       "    </tr>\n",
       "  </thead>\n",
       "  <tbody>\n",
       "    <tr>\n",
       "      <th>2735704</th>\n",
       "      <td>2017</td>\n",
       "      <td>12</td>\n",
       "      <td>18 12:00:00 AM</td>\n",
       "    </tr>\n",
       "    <tr>\n",
       "      <th>2771883</th>\n",
       "      <td>2017</td>\n",
       "      <td>05</td>\n",
       "      <td>11 12:00:00 AM</td>\n",
       "    </tr>\n",
       "    <tr>\n",
       "      <th>2777524</th>\n",
       "      <td>2017</td>\n",
       "      <td>03</td>\n",
       "      <td>01 12:00:00 AM</td>\n",
       "    </tr>\n",
       "    <tr>\n",
       "      <th>2777558</th>\n",
       "      <td>2017</td>\n",
       "      <td>03</td>\n",
       "      <td>28 12:00:00 AM</td>\n",
       "    </tr>\n",
       "    <tr>\n",
       "      <th>2777651</th>\n",
       "      <td>2017</td>\n",
       "      <td>05</td>\n",
       "      <td>15 12:00:00 AM</td>\n",
       "    </tr>\n",
       "  </tbody>\n",
       "</table>\n",
       "</div>"
      ],
      "text/plain": [
       "            0   1               2\n",
       "2735704  2017  12  18 12:00:00 AM\n",
       "2771883  2017  05  11 12:00:00 AM\n",
       "2777524  2017  03  01 12:00:00 AM\n",
       "2777558  2017  03  28 12:00:00 AM\n",
       "2777651  2017  05  15 12:00:00 AM"
      ]
     },
     "execution_count": 40,
     "metadata": {},
     "output_type": "execute_result"
    }
   ],
   "source": [
    "date_split_1 = la_ticket_2017['Issue Date'].str.split('/', n=3, expand=True)\n",
    "date_split_1.head()"
   ]
  },
  {
   "cell_type": "code",
   "execution_count": 41,
   "metadata": {},
   "outputs": [
    {
     "data": {
      "text/html": [
       "<div>\n",
       "<style scoped>\n",
       "    .dataframe tbody tr th:only-of-type {\n",
       "        vertical-align: middle;\n",
       "    }\n",
       "\n",
       "    .dataframe tbody tr th {\n",
       "        vertical-align: top;\n",
       "    }\n",
       "\n",
       "    .dataframe thead th {\n",
       "        text-align: right;\n",
       "    }\n",
       "</style>\n",
       "<table border=\"1\" class=\"dataframe\">\n",
       "  <thead>\n",
       "    <tr style=\"text-align: right;\">\n",
       "      <th></th>\n",
       "      <th>0</th>\n",
       "      <th>1</th>\n",
       "    </tr>\n",
       "  </thead>\n",
       "  <tbody>\n",
       "    <tr>\n",
       "      <th>2735704</th>\n",
       "      <td>18</td>\n",
       "      <td>12:00:00 AM</td>\n",
       "    </tr>\n",
       "    <tr>\n",
       "      <th>2771883</th>\n",
       "      <td>11</td>\n",
       "      <td>12:00:00 AM</td>\n",
       "    </tr>\n",
       "    <tr>\n",
       "      <th>2777524</th>\n",
       "      <td>01</td>\n",
       "      <td>12:00:00 AM</td>\n",
       "    </tr>\n",
       "    <tr>\n",
       "      <th>2777558</th>\n",
       "      <td>28</td>\n",
       "      <td>12:00:00 AM</td>\n",
       "    </tr>\n",
       "    <tr>\n",
       "      <th>2777651</th>\n",
       "      <td>15</td>\n",
       "      <td>12:00:00 AM</td>\n",
       "    </tr>\n",
       "  </tbody>\n",
       "</table>\n",
       "</div>"
      ],
      "text/plain": [
       "          0            1\n",
       "2735704  18  12:00:00 AM\n",
       "2771883  11  12:00:00 AM\n",
       "2777524  01  12:00:00 AM\n",
       "2777558  28  12:00:00 AM\n",
       "2777651  15  12:00:00 AM"
      ]
     },
     "execution_count": 41,
     "metadata": {},
     "output_type": "execute_result"
    }
   ],
   "source": [
    "date_split_2 = date_split[2].str.split(' ', n=1, expand = True)\n",
    "second_split.head()"
   ]
  },
  {
   "cell_type": "code",
   "execution_count": 46,
   "metadata": {},
   "outputs": [
    {
     "data": {
      "text/html": [
       "<div>\n",
       "<style scoped>\n",
       "    .dataframe tbody tr th:only-of-type {\n",
       "        vertical-align: middle;\n",
       "    }\n",
       "\n",
       "    .dataframe tbody tr th {\n",
       "        vertical-align: top;\n",
       "    }\n",
       "\n",
       "    .dataframe thead th {\n",
       "        text-align: right;\n",
       "    }\n",
       "</style>\n",
       "<table border=\"1\" class=\"dataframe\">\n",
       "  <thead>\n",
       "    <tr style=\"text-align: right;\">\n",
       "      <th></th>\n",
       "      <th>Ticket number</th>\n",
       "      <th>Issue Date</th>\n",
       "      <th>Issue time</th>\n",
       "      <th>Meter Id</th>\n",
       "      <th>Marked Time</th>\n",
       "      <th>RP State Plate</th>\n",
       "      <th>Plate Expiry Date</th>\n",
       "      <th>VIN</th>\n",
       "      <th>Make</th>\n",
       "      <th>Body Style</th>\n",
       "      <th>...</th>\n",
       "      <th>Location</th>\n",
       "      <th>Route</th>\n",
       "      <th>Agency</th>\n",
       "      <th>Violation code</th>\n",
       "      <th>Violation Description</th>\n",
       "      <th>Fine amount</th>\n",
       "      <th>Latitude</th>\n",
       "      <th>Longitude</th>\n",
       "      <th>Month</th>\n",
       "      <th>Day</th>\n",
       "    </tr>\n",
       "  </thead>\n",
       "  <tbody>\n",
       "    <tr>\n",
       "      <th>2735704</th>\n",
       "      <td>1115377911</td>\n",
       "      <td>2017/12/18 12:00:00 AM</td>\n",
       "      <td>2205.0</td>\n",
       "      <td>NaN</td>\n",
       "      <td>NaN</td>\n",
       "      <td>CA</td>\n",
       "      <td>201712.0</td>\n",
       "      <td>NaN</td>\n",
       "      <td>HOND</td>\n",
       "      <td>PA</td>\n",
       "      <td>...</td>\n",
       "      <td>1323 S FLOWER ST</td>\n",
       "      <td>00192</td>\n",
       "      <td>1.0</td>\n",
       "      <td>4000A1</td>\n",
       "      <td>NO EVIDENCE OF REG</td>\n",
       "      <td>50.0</td>\n",
       "      <td>6.480729e+06</td>\n",
       "      <td>1.836883e+06</td>\n",
       "      <td>12</td>\n",
       "      <td>18</td>\n",
       "    </tr>\n",
       "    <tr>\n",
       "      <th>2771883</th>\n",
       "      <td>1114752936</td>\n",
       "      <td>2017/05/11 12:00:00 AM</td>\n",
       "      <td>800.0</td>\n",
       "      <td>NaN</td>\n",
       "      <td>NaN</td>\n",
       "      <td>CA</td>\n",
       "      <td>201712.0</td>\n",
       "      <td>NaN</td>\n",
       "      <td>FRHT</td>\n",
       "      <td>TR</td>\n",
       "      <td>...</td>\n",
       "      <td>INDIANA/NOAKES</td>\n",
       "      <td>CM99</td>\n",
       "      <td>1.0</td>\n",
       "      <td>4000A1</td>\n",
       "      <td>NO EVIDENCE OF REG</td>\n",
       "      <td>50.0</td>\n",
       "      <td>9.999900e+04</td>\n",
       "      <td>9.999900e+04</td>\n",
       "      <td>05</td>\n",
       "      <td>11</td>\n",
       "    </tr>\n",
       "    <tr>\n",
       "      <th>2777524</th>\n",
       "      <td>4302749861</td>\n",
       "      <td>2017/03/01 12:00:00 AM</td>\n",
       "      <td>104.0</td>\n",
       "      <td>NaN</td>\n",
       "      <td>NaN</td>\n",
       "      <td>OR</td>\n",
       "      <td>3.0</td>\n",
       "      <td>NaN</td>\n",
       "      <td>TOYT</td>\n",
       "      <td>PA</td>\n",
       "      <td>...</td>\n",
       "      <td>1822 WINONA BLVD</td>\n",
       "      <td>00402</td>\n",
       "      <td>54.0</td>\n",
       "      <td>80.56E4+</td>\n",
       "      <td>RED ZONE</td>\n",
       "      <td>93.0</td>\n",
       "      <td>6.470239e+06</td>\n",
       "      <td>1.860397e+06</td>\n",
       "      <td>03</td>\n",
       "      <td>01</td>\n",
       "    </tr>\n",
       "    <tr>\n",
       "      <th>2777558</th>\n",
       "      <td>1120840291</td>\n",
       "      <td>2017/03/28 12:00:00 AM</td>\n",
       "      <td>1050.0</td>\n",
       "      <td>NaN</td>\n",
       "      <td>NaN</td>\n",
       "      <td>CA</td>\n",
       "      <td>201708.0</td>\n",
       "      <td>NaN</td>\n",
       "      <td>HOND</td>\n",
       "      <td>PA</td>\n",
       "      <td>...</td>\n",
       "      <td>710 EL CENTRO AV</td>\n",
       "      <td>00001</td>\n",
       "      <td>1.0</td>\n",
       "      <td>4000A1</td>\n",
       "      <td>NO EVIDENCE OF REG</td>\n",
       "      <td>50.0</td>\n",
       "      <td>9.999900e+04</td>\n",
       "      <td>9.999900e+04</td>\n",
       "      <td>03</td>\n",
       "      <td>28</td>\n",
       "    </tr>\n",
       "    <tr>\n",
       "      <th>2777651</th>\n",
       "      <td>4308029526</td>\n",
       "      <td>2017/05/15 12:00:00 AM</td>\n",
       "      <td>134.0</td>\n",
       "      <td>NaN</td>\n",
       "      <td>NaN</td>\n",
       "      <td>CA</td>\n",
       "      <td>NaN</td>\n",
       "      <td>NaN</td>\n",
       "      <td>LEXS</td>\n",
       "      <td>PA</td>\n",
       "      <td>...</td>\n",
       "      <td>1701 VINE ST</td>\n",
       "      <td>00402</td>\n",
       "      <td>54.0</td>\n",
       "      <td>80.69B</td>\n",
       "      <td>NO PARKING</td>\n",
       "      <td>73.0</td>\n",
       "      <td>6.462770e+06</td>\n",
       "      <td>1.859525e+06</td>\n",
       "      <td>05</td>\n",
       "      <td>15</td>\n",
       "    </tr>\n",
       "  </tbody>\n",
       "</table>\n",
       "<p>5 rows × 21 columns</p>\n",
       "</div>"
      ],
      "text/plain": [
       "        Ticket number              Issue Date  Issue time Meter Id  \\\n",
       "2735704    1115377911  2017/12/18 12:00:00 AM      2205.0      NaN   \n",
       "2771883    1114752936  2017/05/11 12:00:00 AM       800.0      NaN   \n",
       "2777524    4302749861  2017/03/01 12:00:00 AM       104.0      NaN   \n",
       "2777558    1120840291  2017/03/28 12:00:00 AM      1050.0      NaN   \n",
       "2777651    4308029526  2017/05/15 12:00:00 AM       134.0      NaN   \n",
       "\n",
       "         Marked Time RP State Plate  Plate Expiry Date  VIN  Make Body Style  \\\n",
       "2735704          NaN             CA           201712.0  NaN  HOND         PA   \n",
       "2771883          NaN             CA           201712.0  NaN  FRHT         TR   \n",
       "2777524          NaN             OR                3.0  NaN  TOYT         PA   \n",
       "2777558          NaN             CA           201708.0  NaN  HOND         PA   \n",
       "2777651          NaN             CA                NaN  NaN  LEXS         PA   \n",
       "\n",
       "        ...          Location  Route Agency  Violation code  \\\n",
       "2735704 ...  1323 S FLOWER ST  00192    1.0          4000A1   \n",
       "2771883 ...    INDIANA/NOAKES   CM99    1.0          4000A1   \n",
       "2777524 ...  1822 WINONA BLVD  00402   54.0        80.56E4+   \n",
       "2777558 ...  710 EL CENTRO AV  00001    1.0          4000A1   \n",
       "2777651 ...      1701 VINE ST  00402   54.0          80.69B   \n",
       "\n",
       "        Violation Description Fine amount      Latitude     Longitude  Month  \\\n",
       "2735704    NO EVIDENCE OF REG        50.0  6.480729e+06  1.836883e+06     12   \n",
       "2771883    NO EVIDENCE OF REG        50.0  9.999900e+04  9.999900e+04     05   \n",
       "2777524              RED ZONE        93.0  6.470239e+06  1.860397e+06     03   \n",
       "2777558    NO EVIDENCE OF REG        50.0  9.999900e+04  9.999900e+04     03   \n",
       "2777651            NO PARKING        73.0  6.462770e+06  1.859525e+06     05   \n",
       "\n",
       "        Day  \n",
       "2735704  18  \n",
       "2771883  11  \n",
       "2777524  01  \n",
       "2777558  28  \n",
       "2777651  15  \n",
       "\n",
       "[5 rows x 21 columns]"
      ]
     },
     "execution_count": 46,
     "metadata": {},
     "output_type": "execute_result"
    }
   ],
   "source": [
    "# making seperate first name column from new data frame \n",
    "warnings.filterwarnings('ignore')\n",
    "\n",
    "la_ticket_2017[\"Month\"] = date_split_1[1] \n",
    "la_ticket_2017[\"Day\"] = date_split_2[0]\n",
    "la_ticket_2017.head()"
   ]
  },
  {
   "cell_type": "markdown",
   "metadata": {},
   "source": [
    "### Remove 'Useless' Variables"
   ]
  },
  {
   "cell_type": "code",
   "execution_count": 47,
   "metadata": {},
   "outputs": [],
   "source": [
    "la_ticket_2017_reduced = la_ticket_2017.drop(['Ticket number', 'Issue Date','Plate Expiry Date', 'Body Style', 'VIN', 'Marked Time', 'Route', 'Agency'], axis=1)"
   ]
  },
  {
   "cell_type": "code",
   "execution_count": 49,
   "metadata": {},
   "outputs": [
    {
     "data": {
      "text/html": [
       "<div>\n",
       "<style scoped>\n",
       "    .dataframe tbody tr th:only-of-type {\n",
       "        vertical-align: middle;\n",
       "    }\n",
       "\n",
       "    .dataframe tbody tr th {\n",
       "        vertical-align: top;\n",
       "    }\n",
       "\n",
       "    .dataframe thead th {\n",
       "        text-align: right;\n",
       "    }\n",
       "</style>\n",
       "<table border=\"1\" class=\"dataframe\">\n",
       "  <thead>\n",
       "    <tr style=\"text-align: right;\">\n",
       "      <th></th>\n",
       "      <th>Issue time</th>\n",
       "      <th>Meter Id</th>\n",
       "      <th>RP State Plate</th>\n",
       "      <th>Make</th>\n",
       "      <th>Color</th>\n",
       "      <th>Location</th>\n",
       "      <th>Violation code</th>\n",
       "      <th>Violation Description</th>\n",
       "      <th>Fine amount</th>\n",
       "      <th>Latitude</th>\n",
       "      <th>Longitude</th>\n",
       "      <th>Month</th>\n",
       "      <th>Day</th>\n",
       "    </tr>\n",
       "  </thead>\n",
       "  <tbody>\n",
       "    <tr>\n",
       "      <th>2735704</th>\n",
       "      <td>2205.0</td>\n",
       "      <td>NaN</td>\n",
       "      <td>CA</td>\n",
       "      <td>HOND</td>\n",
       "      <td>BK</td>\n",
       "      <td>1323 S FLOWER ST</td>\n",
       "      <td>4000A1</td>\n",
       "      <td>NO EVIDENCE OF REG</td>\n",
       "      <td>50.0</td>\n",
       "      <td>6.480729e+06</td>\n",
       "      <td>1.836883e+06</td>\n",
       "      <td>12</td>\n",
       "      <td>18</td>\n",
       "    </tr>\n",
       "    <tr>\n",
       "      <th>2771883</th>\n",
       "      <td>800.0</td>\n",
       "      <td>NaN</td>\n",
       "      <td>CA</td>\n",
       "      <td>FRHT</td>\n",
       "      <td>WH</td>\n",
       "      <td>INDIANA/NOAKES</td>\n",
       "      <td>4000A1</td>\n",
       "      <td>NO EVIDENCE OF REG</td>\n",
       "      <td>50.0</td>\n",
       "      <td>9.999900e+04</td>\n",
       "      <td>9.999900e+04</td>\n",
       "      <td>05</td>\n",
       "      <td>11</td>\n",
       "    </tr>\n",
       "    <tr>\n",
       "      <th>2777524</th>\n",
       "      <td>104.0</td>\n",
       "      <td>NaN</td>\n",
       "      <td>OR</td>\n",
       "      <td>TOYT</td>\n",
       "      <td>BL</td>\n",
       "      <td>1822 WINONA BLVD</td>\n",
       "      <td>80.56E4+</td>\n",
       "      <td>RED ZONE</td>\n",
       "      <td>93.0</td>\n",
       "      <td>6.470239e+06</td>\n",
       "      <td>1.860397e+06</td>\n",
       "      <td>03</td>\n",
       "      <td>01</td>\n",
       "    </tr>\n",
       "    <tr>\n",
       "      <th>2777558</th>\n",
       "      <td>1050.0</td>\n",
       "      <td>NaN</td>\n",
       "      <td>CA</td>\n",
       "      <td>HOND</td>\n",
       "      <td>BK</td>\n",
       "      <td>710 EL CENTRO AV</td>\n",
       "      <td>4000A1</td>\n",
       "      <td>NO EVIDENCE OF REG</td>\n",
       "      <td>50.0</td>\n",
       "      <td>9.999900e+04</td>\n",
       "      <td>9.999900e+04</td>\n",
       "      <td>03</td>\n",
       "      <td>28</td>\n",
       "    </tr>\n",
       "    <tr>\n",
       "      <th>2777651</th>\n",
       "      <td>134.0</td>\n",
       "      <td>NaN</td>\n",
       "      <td>CA</td>\n",
       "      <td>LEXS</td>\n",
       "      <td>BL</td>\n",
       "      <td>1701 VINE ST</td>\n",
       "      <td>80.69B</td>\n",
       "      <td>NO PARKING</td>\n",
       "      <td>73.0</td>\n",
       "      <td>6.462770e+06</td>\n",
       "      <td>1.859525e+06</td>\n",
       "      <td>05</td>\n",
       "      <td>15</td>\n",
       "    </tr>\n",
       "  </tbody>\n",
       "</table>\n",
       "</div>"
      ],
      "text/plain": [
       "         Issue time Meter Id RP State Plate  Make Color          Location  \\\n",
       "2735704      2205.0      NaN             CA  HOND    BK  1323 S FLOWER ST   \n",
       "2771883       800.0      NaN             CA  FRHT    WH    INDIANA/NOAKES   \n",
       "2777524       104.0      NaN             OR  TOYT    BL  1822 WINONA BLVD   \n",
       "2777558      1050.0      NaN             CA  HOND    BK  710 EL CENTRO AV   \n",
       "2777651       134.0      NaN             CA  LEXS    BL      1701 VINE ST   \n",
       "\n",
       "        Violation code Violation Description  Fine amount      Latitude  \\\n",
       "2735704         4000A1    NO EVIDENCE OF REG         50.0  6.480729e+06   \n",
       "2771883         4000A1    NO EVIDENCE OF REG         50.0  9.999900e+04   \n",
       "2777524       80.56E4+              RED ZONE         93.0  6.470239e+06   \n",
       "2777558         4000A1    NO EVIDENCE OF REG         50.0  9.999900e+04   \n",
       "2777651         80.69B            NO PARKING         73.0  6.462770e+06   \n",
       "\n",
       "            Longitude Month Day  \n",
       "2735704  1.836883e+06    12  18  \n",
       "2771883  9.999900e+04    05  11  \n",
       "2777524  1.860397e+06    03  01  \n",
       "2777558  9.999900e+04    03  28  \n",
       "2777651  1.859525e+06    05  15  "
      ]
     },
     "execution_count": 49,
     "metadata": {},
     "output_type": "execute_result"
    }
   ],
   "source": [
    "la_ticket_2017_reduced.head()"
   ]
  },
  {
   "cell_type": "markdown",
   "metadata": {},
   "source": [
    "### Write Reduced 2017 Dataset"
   ]
  },
  {
   "cell_type": "code",
   "execution_count": 50,
   "metadata": {},
   "outputs": [],
   "source": [
    "la_ticket_2017_reduced.to_csv('la_ticket_2017.csv')"
   ]
  },
  {
   "cell_type": "code",
   "execution_count": 51,
   "metadata": {},
   "outputs": [
    {
     "data": {
      "text/plain": [
       "0.253930927"
      ]
     },
     "execution_count": 51,
     "metadata": {},
     "output_type": "execute_result"
    }
   ],
   "source": [
    "# check size again\n",
    "os.path.getsize('la_ticket_2017.csv') / (1*10**9)\n",
    "# still too big, must be < 100 mb"
   ]
  },
  {
   "cell_type": "markdown",
   "metadata": {},
   "source": [
    "### Divide Dataset into 3 parts for github upload"
   ]
  },
  {
   "cell_type": "code",
   "execution_count": 59,
   "metadata": {},
   "outputs": [],
   "source": [
    "seq_1 = ['01','02','03']\n",
    "seq_2 = ['04','05','06']\n",
    "seq_3 = ['07','08','09']\n",
    "seq_4 = ['10','11','12']"
   ]
  },
  {
   "cell_type": "code",
   "execution_count": 68,
   "metadata": {},
   "outputs": [],
   "source": [
    "index_1 = la_ticket_2017_reduced['Month'].isin(seq_1)\n",
    "index_2 = la_ticket_2017_reduced['Month'].isin(seq_2)\n",
    "index_3 = la_ticket_2017_reduced['Month'].isin(seq_3)\n",
    "index_4 = la_ticket_2017_reduced['Month'].isin(seq_4)"
   ]
  },
  {
   "cell_type": "code",
   "execution_count": 69,
   "metadata": {},
   "outputs": [],
   "source": [
    "la_ticket_2017_1 = la_ticket_2017_reduced[index_1]\n",
    "la_ticket_2017_2 = la_ticket_2017_reduced[index_2]\n",
    "la_ticket_2017_3 = la_ticket_2017_reduced[index_3]\n",
    "la_ticket_2017_4 = la_ticket_2017_reduced[index_4]"
   ]
  },
  {
   "cell_type": "code",
   "execution_count": 81,
   "metadata": {},
   "outputs": [
    {
     "data": {
      "text/plain": [
       "(534139, 13)"
      ]
     },
     "execution_count": 81,
     "metadata": {},
     "output_type": "execute_result"
    }
   ],
   "source": [
    "la_ticket_2017_4.shape"
   ]
  },
  {
   "cell_type": "code",
   "execution_count": 71,
   "metadata": {},
   "outputs": [],
   "source": [
    "la_ticket_2017_1.to_csv('la_ticket_2017_1.csv')\n",
    "la_ticket_2017_2.to_csv('la_ticket_2017_2.csv')\n",
    "la_ticket_2017_3.to_csv('la_ticket_2017_3.csv')\n",
    "la_ticket_2017_4.to_csv('la_ticket_2017_4.csv')"
   ]
  },
  {
   "cell_type": "code",
   "execution_count": 72,
   "metadata": {},
   "outputs": [
    {
     "data": {
      "text/plain": [
       "0.063464771"
      ]
     },
     "execution_count": 72,
     "metadata": {},
     "output_type": "execute_result"
    }
   ],
   "source": [
    "os.path.getsize('la_ticket_2017_1.csv') / (1*10**9)"
   ]
  },
  {
   "cell_type": "code",
   "execution_count": 73,
   "metadata": {},
   "outputs": [
    {
     "data": {
      "text/plain": [
       "0.066494809"
      ]
     },
     "execution_count": 73,
     "metadata": {},
     "output_type": "execute_result"
    }
   ],
   "source": [
    "os.path.getsize('la_ticket_2017_2.csv') / (1*10**9)"
   ]
  },
  {
   "cell_type": "code",
   "execution_count": 74,
   "metadata": {},
   "outputs": [
    {
     "data": {
      "text/plain": [
       "0.063882298"
      ]
     },
     "execution_count": 74,
     "metadata": {},
     "output_type": "execute_result"
    }
   ],
   "source": [
    "os.path.getsize('la_ticket_2017_3.csv') / (1*10**9)"
   ]
  },
  {
   "cell_type": "code",
   "execution_count": 75,
   "metadata": {},
   "outputs": [
    {
     "data": {
      "text/plain": [
       "0.060089451"
      ]
     },
     "execution_count": 75,
     "metadata": {},
     "output_type": "execute_result"
    }
   ],
   "source": [
    "os.path.getsize('la_ticket_2017_4.csv') / (1*10**9)"
   ]
  },
  {
   "cell_type": "markdown",
   "metadata": {},
   "source": [
    "### Trim Complete"
   ]
  }
 ],
 "metadata": {
  "kernelspec": {
   "display_name": "Python 3",
   "language": "python",
   "name": "python3"
  },
  "language_info": {
   "codemirror_mode": {
    "name": "ipython",
    "version": 3
   },
   "file_extension": ".py",
   "mimetype": "text/x-python",
   "name": "python",
   "nbconvert_exporter": "python",
   "pygments_lexer": "ipython3",
   "version": "3.6.6"
  }
 },
 "nbformat": 4,
 "nbformat_minor": 2
}
